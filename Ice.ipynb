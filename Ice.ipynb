{
 "cells": [
  {
   "cell_type": "markdown",
   "metadata": {},
   "source": [
    "# Table of Contents\n",
    "\n",
    "**Introduction**\n",
    "\n",
    "An explanation of the purpose of this project, and what is done with the dataset. \n",
    "\n",
    "**Section 1: Opening the data file and studying the general information**\n",
    "\n",
    "Details of the columns of the dataset, specifically the names, non-null values counts of each column, and the data type of each column. \n",
    "\n",
    "**Section 2: Preparing the data**\n",
    "\n",
    "Changing all column names to snake_case, checking for duplicates, dropping columns that are not useful for the analysis, and deciding what to do with null values.\n",
    "\n",
    "**Section 3: Analyzing the data**\n",
    "\n",
    "Deciding which data to use, finding the total video game sales per year of contemporary platforms, finding the variations in global video games between contemporary platforms, finding the average global video game sales of each contemporary platform, determining if reviews from users and/or critics correlate with total sales, investigating if games released on multiple platforms sell equally well on each platform or not, and comparing the distributions of sales between various video game genres.\n",
    "\n",
    "**Section 4: Creating a user profile for NA, EU, & JP**\n",
    "\n",
    "Figuring out the top 5 best selling video game platforms and genres in each of the following regions: North America, Europe, and Japan. Also, figuring out the extent to which ESRB ratings affect video game sales in North America.\n",
    "\n",
    "**Section 5: Hypothesis Testing**\n",
    "\n",
    "Using two-tailed tests to investigate the following hypotheses: (1) Average user ratings of the Xbox One and PC platforms are the same, and (2) Average user ratings for the Action and Sports genres are different.\n",
    "\n",
    "**Section 6: Conclusions**\n",
    "\n",
    "Practical takeaways for Ice stakeholders to help them with anticipating the best selling games of 2017."
   ]
  },
  {
   "cell_type": "markdown",
   "metadata": {},
   "source": [
    "# Introduction\n",
    "It is December 2016, and I work for the online, worldwide video game store **Ice**. \n",
    "\n",
    "**Ice** stakeholders are interested in identifying patterns in their sales dataset to help predict whether or not a game is likely to be successful. They want to anticipate who the biggest winners in 2017 will be, and plan their advertising campaigns accordingly.\n",
    "\n",
    "The sales dataset has the following column names:\n",
    "\n",
    "— Name (of the video game)\n",
    "\n",
    "— Platform (e.g. PS4, XOne, WiiU, etc.)\n",
    "\n",
    "— Year_of_Release\n",
    "\n",
    "— Genre (e.g. Fighting, Racing, Sports, etc.)\n",
    "\n",
    "— NA_sales (North American sales in USD million)\n",
    "\n",
    "— EU_sales (European sales in USD million)\n",
    "\n",
    "— JP_sales (Japanese sales in USD million)\n",
    "\n",
    "— Other_sales (Total sales in all other countries in USD million)\n",
    "\n",
    "— Critic_Score (On a scale of 0 to 100)\n",
    "\n",
    "— User_Score (On a scale of 0 to 10)\n",
    "\n",
    "— Rating (ESRB, e.g. E, T, M, etc.)\n",
    "\n",
    "To help me arrive at reasonable and useful conclusions, I did the following with the dataset:\n",
    "\n",
    "(1) Preprocessed the data by making the column names lowercase, changing the data types of the columns as needed, deciding what to do with the missing values, and calculating the total sales for each game.\n",
    "\n",
    "(2) Analyzed the data by determining the degree of significance of the various variables. Multiple plots of different types (histogram, box plot, scatter plot, etc.) were made to visualize significant patterns found in the dataset.\n",
    "\n",
    "(3) Created a user profile for the following regions: North America, Europe, and Japan. The purpose of this is to determine the top selling platforms, the top selling video game genres, and the effect of ESRB ratings on sales (if any). \n",
    "\n",
    "(4) Statistical hypothesis testing regarding user ratings on different platforms and video game genres."
   ]
  },
  {
   "cell_type": "code",
   "execution_count": 1,
   "metadata": {},
   "outputs": [],
   "source": [
    "from scipy import stats as st\n",
    "import matplotlib.pyplot as plt\n",
    "import numpy as np\n",
    "import pandas as pd\n",
    "import seaborn as sns"
   ]
  },
  {
   "cell_type": "markdown",
   "metadata": {},
   "source": [
    "# Section 1: Opening the data file and studying the general information"
   ]
  },
  {
   "cell_type": "code",
   "execution_count": 2,
   "metadata": {},
   "outputs": [],
   "source": [
    "video_games_data = pd.read_csv('/datasets/games.csv')"
   ]
  },
  {
   "cell_type": "code",
   "execution_count": 3,
   "metadata": {},
   "outputs": [
    {
     "name": "stdout",
     "output_type": "stream",
     "text": [
      "<class 'pandas.core.frame.DataFrame'>\n",
      "RangeIndex: 16715 entries, 0 to 16714\n",
      "Data columns (total 11 columns):\n",
      " #   Column           Non-Null Count  Dtype  \n",
      "---  ------           --------------  -----  \n",
      " 0   Name             16713 non-null  object \n",
      " 1   Platform         16715 non-null  object \n",
      " 2   Year_of_Release  16446 non-null  float64\n",
      " 3   Genre            16713 non-null  object \n",
      " 4   NA_sales         16715 non-null  float64\n",
      " 5   EU_sales         16715 non-null  float64\n",
      " 6   JP_sales         16715 non-null  float64\n",
      " 7   Other_sales      16715 non-null  float64\n",
      " 8   Critic_Score     8137 non-null   float64\n",
      " 9   User_Score       10014 non-null  object \n",
      " 10  Rating           9949 non-null   object \n",
      "dtypes: float64(6), object(5)\n",
      "memory usage: 1.4+ MB\n"
     ]
    }
   ],
   "source": [
    "video_games_data.info()"
   ]
  },
  {
   "cell_type": "markdown",
   "metadata": {},
   "source": [
    "# Section 2: Preparing the data"
   ]
  },
  {
   "cell_type": "markdown",
   "metadata": {},
   "source": [
    "It is conventional for all column names in a dataframe to be written in snake_case, so let's do that with the sales data."
   ]
  },
  {
   "cell_type": "code",
   "execution_count": 4,
   "metadata": {},
   "outputs": [],
   "source": [
    "video_games_data.columns = video_games_data.columns.str.lower()"
   ]
  },
  {
   "cell_type": "markdown",
   "metadata": {},
   "source": [
    "With any dataframe, there is a chance that there are rows which are exact duplicates. Thankfully, that is not the case here, as evidenced by how the line of code below tries to find exact duplicate rows, only to display any empty dataframe."
   ]
  },
  {
   "cell_type": "code",
   "execution_count": 5,
   "metadata": {},
   "outputs": [
    {
     "data": {
      "text/html": [
       "<div>\n",
       "<style scoped>\n",
       "    .dataframe tbody tr th:only-of-type {\n",
       "        vertical-align: middle;\n",
       "    }\n",
       "\n",
       "    .dataframe tbody tr th {\n",
       "        vertical-align: top;\n",
       "    }\n",
       "\n",
       "    .dataframe thead th {\n",
       "        text-align: right;\n",
       "    }\n",
       "</style>\n",
       "<table border=\"1\" class=\"dataframe\">\n",
       "  <thead>\n",
       "    <tr style=\"text-align: right;\">\n",
       "      <th></th>\n",
       "      <th>name</th>\n",
       "      <th>platform</th>\n",
       "      <th>year_of_release</th>\n",
       "      <th>genre</th>\n",
       "      <th>na_sales</th>\n",
       "      <th>eu_sales</th>\n",
       "      <th>jp_sales</th>\n",
       "      <th>other_sales</th>\n",
       "      <th>critic_score</th>\n",
       "      <th>user_score</th>\n",
       "      <th>rating</th>\n",
       "    </tr>\n",
       "  </thead>\n",
       "  <tbody>\n",
       "  </tbody>\n",
       "</table>\n",
       "</div>"
      ],
      "text/plain": [
       "Empty DataFrame\n",
       "Columns: [name, platform, year_of_release, genre, na_sales, eu_sales, jp_sales, other_sales, critic_score, user_score, rating]\n",
       "Index: []"
      ]
     },
     "metadata": {},
     "output_type": "display_data"
    }
   ],
   "source": [
    "display(video_games_data[video_games_data.duplicated()])"
   ]
  },
  {
   "cell_type": "markdown",
   "metadata": {},
   "source": [
    "I find it peculiar that the column user_score has Dtype object instead of float, since the scores are numerical. The code below changes the Dtype accordingly."
   ]
  },
  {
   "cell_type": "code",
   "execution_count": 6,
   "metadata": {},
   "outputs": [],
   "source": [
    "video_games_data['user_score'] = pd.to_numeric(video_games_data['user_score'], errors = 'coerce')"
   ]
  },
  {
   "cell_type": "markdown",
   "metadata": {},
   "source": [
    "I also noticed that 2424 of the user_score column values were 'tbd' (to be determined), and due to the use of the errors = 'coerce' parameter in the code above, those values have now been changed to 'NaN'. I think it is appropriate for the former 'tbd' values to now be 'NaN' because all of the games in the dataset have already been released, so any games that still do not have a user_score numerical value are unlikely to ever get one, or if they do, the sample size of users who gave a score would likely be too small to be useful for this analysis. Hypothetically, if any of the games in the dataset had a year_of_release value of 2017 or more, then it would be appropriate to have 'tbd' as the user_score value, but that is not the case with this dataset. "
   ]
  },
  {
   "cell_type": "markdown",
   "metadata": {},
   "source": [
    "The dataframe has two rows with null \"name\" values, which coincidentally are also the two rows with null \"genre\" values. These two rows get dropped completely in the next line because it would be too difficult to try to figure out what the names of those games are, especially since their genres are unknown. Furthermore, neither game has very many sales so these two rows probably would be of little use anyways even if the names and genres were known."
   ]
  },
  {
   "cell_type": "code",
   "execution_count": 7,
   "metadata": {},
   "outputs": [],
   "source": [
    "video_games_data = video_games_data.dropna(subset = ['name'])"
   ]
  },
  {
   "cell_type": "markdown",
   "metadata": {},
   "source": [
    "**START OF NULL VALUES COMMENTARY**\n",
    "\n",
    "I noticed that the year_of_release, critic_score, user_score, and rating columns have null values. The text below is a column by column explanation of why I think there are null values.\n",
    "\n",
    "Regarding null **year_of_release** values, sometimes a video game is released in different regions in different years. To give just one example, the PlayStation 3 video game ***Yakuza 5*** was released in Japan in December 2012 but it did not become available in North America and Europe until December 2015. In such cases, the **year_of_release** value cannot be expressed as a float64 Dtype. Another possible explanation is that some of the video games in the dataset are very old and/or obscure (as evidenced by low sales values) to the point that their years of release are not well-documented.\n",
    "\n",
    "Regarding null **critic_score** values, these can be partially explained by the fact that video games that get very low sales consequently get very little attention from critics, to the point that only a small number of them, if any at all, review them. Furthermore, many of the games in the dataset were released before the Internet became such an important part of everyday life. Nowadays, thanks to the Internet it is so much easier to acquire sufficiently large numbers of critic scores. Metacritic (launched in 2001) is just one example of a convenient website for reviews from critics. Older games, especially those released before Internet usage became so widespread, are seldom played anymore, to the point that it would be very difficult to acquire sufficiently large numbers of critic scores for them. Similar reasons can be used to explain why there are null **user_score** values in the dataset.\n",
    "\n",
    "Regarding null **rating** values, note that ESRB is only used in North America. Hence, any games in the dataset that were never sold in North America would (probably) not have an ESRB rating. Furthermore, ESRB was not established until 1994, so any games in the dataset that were released before 1994 are unlikely to have a rating. Finally, 1750 of the genre column values are \"misc\", which might mean that some of them are indie games (i.e. independently developed games) that did not need to be sent to the ESRB for a rating. Indie games are especially common on the PC (personal computer), which is worth noting because 974 of the games in the dataset have \"PC\" as their platform value.\n",
    "\n",
    "Though I contemplated dropping at least some of the rows with a null value(s), I decided to keep all these rows and null values as they are. If a video game is missing its year_of_release, critic_score, user_score, and/or rating value, that does not mean it isn't useful for this analysis, especially if the game has a non-negligible number of sales in one or more regions of the world.\n",
    "\n",
    "**END OF NULL VALUES COMMENTARY**"
   ]
  },
  {
   "cell_type": "markdown",
   "metadata": {},
   "source": [
    "It would be incredibly useful to have a column in the dataframe that contains the sum of each video game's sales in all regions of the world, hence the code below adds this column to the right of the other_sales column."
   ]
  },
  {
   "cell_type": "code",
   "execution_count": 8,
   "metadata": {},
   "outputs": [],
   "source": [
    "video_games_data.insert(8, 'total_sales', video_games_data['na_sales'] + video_games_data['eu_sales'] + video_games_data['jp_sales'] + video_games_data['other_sales'])"
   ]
  },
  {
   "cell_type": "markdown",
   "metadata": {},
   "source": [
    "While doing this analysis, I made various plots of the total_sales distributions of various platforms, including the Nintendo DS. I noticed there is a DS game in the dataset named \"Strongest Tokyo University Shogi DS\" (located in the row with index 15957) which only ever sold in Japan and has a year_of_release value of 1985.0. This does not make sense because the DS was not released in Japan until December 2004. It would be difficult to find the actual year of release for a game like this which only ever sold in Japan, so the following code replace the 1985.0 value in that row with NaN."
   ]
  },
  {
   "cell_type": "code",
   "execution_count": 9,
   "metadata": {},
   "outputs": [],
   "source": [
    "if video_games_data.loc[15957, 'year_of_release'] == 1985:\n",
    "    video_games_data.loc[15957, 'year_of_release'] = np.nan"
   ]
  },
  {
   "cell_type": "markdown",
   "metadata": {},
   "source": [
    "# Section 3: Analyzing the data"
   ]
  },
  {
   "cell_type": "markdown",
   "metadata": {},
   "source": [
    "I need to decide which games in the dataset will aid my analysis, and conversely which ones are too outdated to be of use. \n",
    "\n",
    "At first I was thinking to include all of the games from the fifth generation, which is the era of the Sony PS1 and the Nintendo N64, onward because this is when games began making the transition from 2D to 3D, and hence contemporary games are broadly similar to those released during the fifth generation. However, after consulting with a more experienced coworker, I realized that fifth and even sixth generation games are too outdated for this analysis because the graphics and gameplay mechanics from those generations can't compete with those of seventh and eighth generation games.\n",
    "\n",
    "I then considered using all games from the seventh and eighth generations, but after consulting with the experienced coworker further, I became convinced that I should focus my analysis on games released since 2012, i.e. games released within the past five years. Even though the seventh generation began in 2004 or 2005 (depending on the region), games of that generation from before 2012 are also too outdated for this analysis, in part because within the same generation it is common for multiple sequels of a franchise to be released. To give just one example, *Call of Duty 3* was released on the PS3 in 2006, and in every year between then and 2015 the PS3 received a new *Call of Duty* game.\n",
    "\n",
    "The platforms of the seventh generation are, in alphabetical order, the DS, PS3, PSP, Wii, and X360. The platforms of the eighth generation are the 3DS, PS4, PSV, WiiU, and XOne. I will not include the DS nor the PSP in the filtered dataframe because despite there being sales data for the DS in 2012 and 2013, as well as there being sales data for the PSP in 2012, 2013, 2014, and 2015, those two platforms are well past their prime, meaning they are selling so much less than they did in the years before 2012 to the point that it is unlikely I can extract meaningful insights from them. \n",
    "\n",
    "Hence, the code below filters the video_games_data dataframe to only include games from the home platforms of the seventh generation since 2012, all platforms of the eighth generation (except the sales data from 2011 for the 3DS and PSV), and PC games released since 2012 (since those PC games coincide with either the home platforms of the seventh generation or those of the eighth). This is a great filtered dataframe to work with because in contains approximately the second half of the seventh generation's lifespan and approximately the first half of the eighth generation's lifespan, meaning, technically, the dataframe has a whole generation's worth of data to work with."
   ]
  },
  {
   "cell_type": "code",
   "execution_count": 10,
   "metadata": {},
   "outputs": [],
   "source": [
    "seventh_and_eighth_gens = ['PS3', 'Wii', 'X360', '3DS', 'PS4', 'PSV', 'WiiU', 'XOne', 'PC']\n",
    "\n",
    "sales_since_2012 = video_games_data[video_games_data['platform'].isin(seventh_and_eighth_gens)]\n",
    "sales_since_2012 = sales_since_2012[sales_since_2012['year_of_release'] >= 2012]"
   ]
  },
  {
   "cell_type": "markdown",
   "metadata": {},
   "source": [
    "Not surprisingly, sales vary from platform to platform, even between platforms of the same generation (e.g. according to the Wikipedia article titled \"List of best-selling game consoles\", the PS1 sold 102.49 million units whereas its competitor the N64 sold only 32.93 million units). \n",
    "\n",
    "The code below finds which platforms have the greatest total video game sales, and displays distributions based on the sales data for each year."
   ]
  },
  {
   "cell_type": "code",
   "execution_count": 11,
   "metadata": {},
   "outputs": [
    {
     "data": {
      "text/html": [
       "<div>\n",
       "<style scoped>\n",
       "    .dataframe tbody tr th:only-of-type {\n",
       "        vertical-align: middle;\n",
       "    }\n",
       "\n",
       "    .dataframe tbody tr th {\n",
       "        vertical-align: top;\n",
       "    }\n",
       "\n",
       "    .dataframe thead th {\n",
       "        text-align: right;\n",
       "    }\n",
       "</style>\n",
       "<table border=\"1\" class=\"dataframe\">\n",
       "  <thead>\n",
       "    <tr style=\"text-align: right;\">\n",
       "      <th></th>\n",
       "      <th>platform</th>\n",
       "      <th>total_sales</th>\n",
       "    </tr>\n",
       "  </thead>\n",
       "  <tbody>\n",
       "    <tr>\n",
       "      <th>0</th>\n",
       "      <td>PS4</td>\n",
       "      <td>314.14</td>\n",
       "    </tr>\n",
       "    <tr>\n",
       "      <th>1</th>\n",
       "      <td>PS3</td>\n",
       "      <td>288.79</td>\n",
       "    </tr>\n",
       "    <tr>\n",
       "      <th>2</th>\n",
       "      <td>X360</td>\n",
       "      <td>236.54</td>\n",
       "    </tr>\n",
       "    <tr>\n",
       "      <th>3</th>\n",
       "      <td>3DS</td>\n",
       "      <td>194.61</td>\n",
       "    </tr>\n",
       "    <tr>\n",
       "      <th>4</th>\n",
       "      <td>XOne</td>\n",
       "      <td>159.32</td>\n",
       "    </tr>\n",
       "    <tr>\n",
       "      <th>5</th>\n",
       "      <td>WiiU</td>\n",
       "      <td>82.19</td>\n",
       "    </tr>\n",
       "    <tr>\n",
       "      <th>6</th>\n",
       "      <td>PC</td>\n",
       "      <td>62.65</td>\n",
       "    </tr>\n",
       "    <tr>\n",
       "      <th>7</th>\n",
       "      <td>PSV</td>\n",
       "      <td>49.18</td>\n",
       "    </tr>\n",
       "    <tr>\n",
       "      <th>8</th>\n",
       "      <td>Wii</td>\n",
       "      <td>35.37</td>\n",
       "    </tr>\n",
       "  </tbody>\n",
       "</table>\n",
       "</div>"
      ],
      "text/plain": [
       "  platform  total_sales\n",
       "0      PS4       314.14\n",
       "1      PS3       288.79\n",
       "2     X360       236.54\n",
       "3      3DS       194.61\n",
       "4     XOne       159.32\n",
       "5     WiiU        82.19\n",
       "6       PC        62.65\n",
       "7      PSV        49.18\n",
       "8      Wii        35.37"
      ]
     },
     "metadata": {},
     "output_type": "display_data"
    }
   ],
   "source": [
    "total_sales_by_platform = sales_since_2012.groupby('platform')['total_sales'].sum().reset_index()\n",
    "total_sales_by_platform = total_sales_by_platform.sort_values(by = 'total_sales', ascending = False)\n",
    "total_sales_by_platform = total_sales_by_platform.reset_index(drop = True)\n",
    "\n",
    "display(total_sales_by_platform)"
   ]
  },
  {
   "cell_type": "markdown",
   "metadata": {},
   "source": [
    "To visualize the differences in the total_sales values of the total_sales_by_platform dataframe, see the following bar graph."
   ]
  },
  {
   "cell_type": "code",
   "execution_count": 12,
   "metadata": {},
   "outputs": [
    {
     "data": {
      "image/png": "[encoded data removed]",
      "text/plain": [
       "<Figure size 864x432 with 1 Axes>"
      ]
     },
     "metadata": {
      "needs_background": "light"
     },
     "output_type": "display_data"
    }
   ],
   "source": [
    "plt.figure(figsize = (12, 6))\n",
    "plt.bar(total_sales_by_platform['platform'], total_sales_by_platform['total_sales'])\n",
    "plt.grid(axis = 'y', linestyle = '-', linewidth = 0.7, alpha = 0.7) \n",
    "plt.title('Total Video Game Sales of 7th and 8th Generation Platforms')\n",
    "plt.xlabel('Platform')\n",
    "plt.ylabel('Total Sales (In Millions of USD)')\n",
    "plt.show()"
   ]
  },
  {
   "cell_type": "markdown",
   "metadata": {},
   "source": [
    "Interesting! Ice stakeholders should know that since 2012 Sony's home platforms have been the winners in terms of total video game sales, with the PS4 being in first place and the PS3 being in second. I especially find it interesting how the PS3, a seventh generation platform, has made pretty close to double the total video game sales of the Xbox One, which is an eighth generation platform. Conversely, Sony's handheld platform, the PSV, is not doing well, being in second to last place in total video game sales.\n",
    "\n",
    "In contrast to Sony, Nintendo's handheld platform, the 3DS, is doing quite well in total video game sales, being in fourth place. However, also in contrast to Sony, Nintendo's previous and current home platforms, the Wii and WiiU, are really struggling to compete with its competitors."
   ]
  },
  {
   "cell_type": "markdown",
   "metadata": {},
   "source": [
    "Since I would like to display multiple bar graphs that show the yearly total video game sales for each contemporary platform, it would be a good idea to build a function that would help my code be as concise as possible. The function is written in the next line."
   ]
  },
  {
   "cell_type": "code",
   "execution_count": 13,
   "metadata": {},
   "outputs": [],
   "source": [
    "def plot_sales_by_platform(sales_data, platform_name):\n",
    "    platform_sales = sales_data[sales_data['platform'] == platform_name]\n",
    "    platform_sales_grouped = platform_sales.groupby('year_of_release')['total_sales'].sum().reset_index()\n",
    "\n",
    "    plt.figure(figsize = (12, 6))\n",
    "    plt.bar(platform_sales_grouped['year_of_release'], platform_sales_grouped['total_sales'])\n",
    "    plt.grid(axis = 'y', linestyle = '-', linewidth = 0.7, alpha = 0.7)\n",
    "    plt.title(f'Total Video Game Sales by Year of Release for the {platform_name}')\n",
    "    plt.xlabel('Year of Release')\n",
    "    plt.xticks(platform_sales_grouped['year_of_release'])\n",
    "    plt.ylabel('Total Sales (In Millions of USD)')\n",
    "    plt.show()"
   ]
  },
  {
   "cell_type": "markdown",
   "metadata": {},
   "source": [
    "Nintendo, Sony, and Microsoft are the three leading platform manufacturers at the moment. Nintendo was the first of the three to make a video game platform, followed by Sony, and lastly Microsoft, hence I will display the bar graphs of yearly total video game sales in this order:\n",
    "\n",
    "1) The home platforms of the 7th generation, in this order: the Nintendo Wii, the Sony PS3, and the Microsoft Xbox 360.\n",
    "\n",
    "2) The handheld platforms of the 8th generation, in this order: the Nintendo 3DS and the Sony PSV.\n",
    "\n",
    "3) The home platforms of the 8th generation, in this order: the Nintendo WiiU, the Sony PS4, and the Microsoft Xbox One.\n",
    "\n",
    "4) The PC (Personal Computer) in its own, stand-alone category since it overlaps with both the 7th and the 8th generation platforms. "
   ]
  },
  {
   "cell_type": "code",
   "execution_count": 14,
   "metadata": {},
   "outputs": [
    {
     "data": {
      "image/png": "[encoded data removed]",
      "text/plain": [
       "<Figure size 864x432 with 1 Axes>"
      ]
     },
     "metadata": {
      "needs_background": "light"
     },
     "output_type": "display_data"
    }
   ],
   "source": [
    "plot_sales_by_platform(sales_since_2012, 'Wii')"
   ]
  },
  {
   "cell_type": "code",
   "execution_count": 15,
   "metadata": {},
   "outputs": [
    {
     "data": {
      "image/png": "[encoded data removed]",
      "text/plain": [
       "<Figure size 864x432 with 1 Axes>"
      ]
     },
     "metadata": {
      "needs_background": "light"
     },
     "output_type": "display_data"
    }
   ],
   "source": [
    "plot_sales_by_platform(sales_since_2012, 'PS3')"
   ]
  },
  {
   "cell_type": "code",
   "execution_count": 16,
   "metadata": {},
   "outputs": [
    {
     "data": {
      "image/png": "[encoded data removed]",
      "text/plain": [
       "<Figure size 864x432 with 1 Axes>"
      ]
     },
     "metadata": {
      "needs_background": "light"
     },
     "output_type": "display_data"
    }
   ],
   "source": [
    "plot_sales_by_platform(sales_since_2012, 'X360')"
   ]
  },
  {
   "cell_type": "markdown",
   "metadata": {},
   "source": [
    "It is clear that a generational shift has occurred, in which the Wii, PS3, and Xbox 360 are being phased out by their successors, the WiiU, PS4, and Xbox One. The above distributions illustrate that even the most popular platforms eventually decline in popularity to the point of having zero sales, due to the fact that their manufacturers either eventually create a successor or stop producing platforms altogether.\n",
    "\n",
    "It is common for platform manufacturers to release a new platform every 5 to 8 years, and consequently the predecessor tends to have a total life span of 9 to 12 years. Regarding the total life span of a typical platform, sales tend to peak in the middle of the life span before rapidly declining due to demand for and availability of new platforms that have improved specifications, and hence presumably better games."
   ]
  },
  {
   "cell_type": "markdown",
   "metadata": {},
   "source": [
    "It would be incredibly useful to know which contemporary platforms are leading in sales at the moment. Furthermore, it would be good to know which contemporary platforms are growing in sales (and to what extent) and which are shrinking (and to what extent). Knowing this would help Ice identify potentially profitable platforms."
   ]
  },
  {
   "cell_type": "code",
   "execution_count": 17,
   "metadata": {},
   "outputs": [
    {
     "data": {
      "image/png": "[encoded data removed]",
      "text/plain": [
       "<Figure size 864x432 with 1 Axes>"
      ]
     },
     "metadata": {
      "needs_background": "light"
     },
     "output_type": "display_data"
    }
   ],
   "source": [
    "plot_sales_by_platform(sales_since_2012, '3DS')"
   ]
  },
  {
   "cell_type": "code",
   "execution_count": 18,
   "metadata": {},
   "outputs": [
    {
     "data": {
      "image/png": "[encoded data removed]",
      "text/plain": [
       "<Figure size 864x432 with 1 Axes>"
      ]
     },
     "metadata": {
      "needs_background": "light"
     },
     "output_type": "display_data"
    }
   ],
   "source": [
    "plot_sales_by_platform(sales_since_2012, 'PSV')"
   ]
  },
  {
   "cell_type": "markdown",
   "metadata": {},
   "source": [
    "Nintendo's handheld, the 3DS, is making **FAR MORE** in video game sales than Sony's, the PlayStation Vita. In fact, every year so far the 3DS has made over three times more in total video game sales than the Vita. That said, total video game sales of the 3DS have been in decline since 2013. "
   ]
  },
  {
   "cell_type": "code",
   "execution_count": 19,
   "metadata": {},
   "outputs": [
    {
     "data": {
      "image/png": "[encoded data removed]",
      "text/plain": [
       "<Figure size 864x432 with 1 Axes>"
      ]
     },
     "metadata": {
      "needs_background": "light"
     },
     "output_type": "display_data"
    }
   ],
   "source": [
    "plot_sales_by_platform(sales_since_2012, 'WiiU')"
   ]
  },
  {
   "cell_type": "code",
   "execution_count": 20,
   "metadata": {},
   "outputs": [
    {
     "data": {
      "image/png": "[encoded data removed]",
      "text/plain": [
       "<Figure size 864x432 with 1 Axes>"
      ]
     },
     "metadata": {
      "needs_background": "light"
     },
     "output_type": "display_data"
    }
   ],
   "source": [
    "plot_sales_by_platform(sales_since_2012, 'PS4')"
   ]
  },
  {
   "cell_type": "code",
   "execution_count": 21,
   "metadata": {},
   "outputs": [
    {
     "data": {
      "image/png": "[encoded data removed]",
      "text/plain": [
       "<Figure size 864x432 with 1 Axes>"
      ]
     },
     "metadata": {
      "needs_background": "light"
     },
     "output_type": "display_data"
    }
   ],
   "source": [
    "plot_sales_by_platform(sales_since_2012, 'XOne')"
   ]
  },
  {
   "cell_type": "markdown",
   "metadata": {},
   "source": [
    "Interestingly, all five platforms of this generation have had far fewer total video game sales in 2016 compared to 2015. Perhaps this can partially be explained by the fact that Ice's sales dataset contains 360 distinct video games that were released 2015, but only 297 that were released in 2016. \n",
    "\n",
    "That observation aside, the PS4 is winning so far this generation **BY A LONG SHOT**. In PS4's popularity really skyrocketed in 2014, when its total video game sales was approximately 100 million USD. This is close to double how much the Xbox One made in total video game sales that year, and over four times more than how much the WiiU made. \n",
    "\n",
    "In 2015, total PS4 video game sales was approximately 120 million USD, whereas the Xbox One's total sales was about half that, approximately 60 million USD. The WiiU's total sales were even lower than that at a little over 15 million USD, or about 1/8 that of the PS4."
   ]
  },
  {
   "cell_type": "code",
   "execution_count": 22,
   "metadata": {},
   "outputs": [
    {
     "data": {
      "image/png": "[encoded data removed]",
      "text/plain": [
       "<Figure size 864x432 with 1 Axes>"
      ]
     },
     "metadata": {
      "needs_background": "light"
     },
     "output_type": "display_data"
    }
   ],
   "source": [
    "plot_sales_by_platform(sales_since_2012, 'PC')"
   ]
  },
  {
   "cell_type": "markdown",
   "metadata": {},
   "source": [
    "I honestly don't know why total sales of PC games were so much higher in 2012 than subsequent years, but interestingly the years 2012 and 2013 are when the shift from seventh generation platforms to eighth generation occurred. Maybe PC games did, relatively, much better in 2012 because that year is when PC games began having eighth generation quality graphics and gameplay mechanics?\n",
    "\n",
    "What I can confidently say is that Ice stakeholders should make most upcoming PC games low priorities since, clearly, the PC is unable to compete with home consoles that are in their prime."
   ]
  },
  {
   "cell_type": "markdown",
   "metadata": {},
   "source": [
    "It would be nice to have side-by-side comparisons of the global sales of all games, broken down by platforms of the same generation. \n",
    "\n",
    "Making box plots seems appropriate for these kinds of comparisons.\n",
    "\n",
    "The first time around that I made the box plots, I made two crucial observations:\n",
    "\n",
    "A) Each platform has games that are high outliers, i.e. games that have sold far more copies than what is the norm. This goes to show that if a platform wants to be successful, all it really needs is for a small number of its games to be \"smash hits\".\n",
    "\n",
    "B) All of the boxes finish before reaching 2 million USD in total sales. That means at least 75% of all games on each platform made less than 2 million USD in total sales (I say \"at least 75%\" because the rightmost side of each \"box\" indicates the 75th percentile value).\n",
    "\n",
    "I will now make four different box plots to further examine the distributions of sales, in this order (just like before):\n",
    "\n",
    "1) The home platforms of the 7th generation, in this order: the Nintendo Wii, the Sony PS3, and the Microsoft Xbox 360.\n",
    "\n",
    "2) The handheld platforms of the 8th generation, in this order: the Nintendo 3DS and the Sony PSV.\n",
    "\n",
    "3) The home platforms of the 8th generation, in this order: the Nintendo WiiU, the Sony PS4, and the Microsoft Xbox One.\n",
    "\n",
    "4) The PC (Personal Computer) in its own, stand-alone category since it overlaps with both the 7th and the 8th generation platforms. "
   ]
  },
  {
   "cell_type": "code",
   "execution_count": 23,
   "metadata": {},
   "outputs": [
    {
     "data": {
      "image/png": "[encoded data removed]",
      "text/plain": [
       "<Figure size 864x432 with 1 Axes>"
      ]
     },
     "metadata": {
      "needs_background": "light"
     },
     "output_type": "display_data"
    }
   ],
   "source": [
    "seventh_gen_home = sales_since_2012[(sales_since_2012['platform'].isin(['Wii', 'PS3', 'X360']))]\n",
    "seventh_gen_home = seventh_gen_home[seventh_gen_home['total_sales'] <= 2]\n",
    "\n",
    "plt.figure(figsize = (12, 6))\n",
    "sns.boxplot(data = seventh_gen_home, orient = 'h', x = 'total_sales', y = 'platform', order = ['Wii', 'PS3', 'X360'])\n",
    "\n",
    "plt.title('Box Plot of Global Video Game Sales by 7th Generation Home Platforms Since 2012')\n",
    "plt.xlabel('Global Sales (In Millions of USD)')\n",
    "plt.ylabel('Platform')\n",
    "plt.show()"
   ]
  },
  {
   "cell_type": "markdown",
   "metadata": {},
   "source": [
    "The Wii is the clear loser of the 7th generation. Its median, third quartile, and rightmost whisker value are noticeably lower than those of the PS3 and Xbox 360. The box plot makes it appear as though the Xbox 360 is the winner of this generation, since it has the largest median, third quartile, and rightmost whisker values. This might be true of the seventh generation as a whole, but recall that the filtered dataframe looks only at games released since 2012. From the box plot one can see that since 2012 the PS3 has had numerous high outliers. The presence of these high outliers explains why the PS3 has made more in total video game sales than the Xbox 360 since 2012, despite the fact that Xbox 360 games typically sell better."
   ]
  },
  {
   "cell_type": "markdown",
   "metadata": {},
   "source": [
    "For the handheld platforms box plot, instead of setting total_sales to less than or equal to 2 (in millions of USD), I will instead set it to less than or equal to 1 because, usually, handheld games make much less in sales than home platforms."
   ]
  },
  {
   "cell_type": "code",
   "execution_count": 24,
   "metadata": {},
   "outputs": [
    {
     "data": {
      "image/png": "[encoded data removed]",
      "text/plain": [
       "<Figure size 864x432 with 1 Axes>"
      ]
     },
     "metadata": {
      "needs_background": "light"
     },
     "output_type": "display_data"
    }
   ],
   "source": [
    "eighth_gen_handheld = sales_since_2012[(sales_since_2012['platform'].isin(['3DS', 'PSV']))]\n",
    "eighth_gen_handheld = eighth_gen_handheld[eighth_gen_handheld['total_sales'] <= 1]\n",
    "\n",
    "plt.figure(figsize = (12, 6))\n",
    "sns.boxplot(data = eighth_gen_handheld, orient = 'h', x = 'total_sales', y = 'platform', order = ['3DS', 'PSV'])\n",
    "plt.title('Box Plot of Global Video Game Sales by 8th Generation Handheld Platforms')\n",
    "plt.xlabel('Global Sales (In Millions of USD)')\n",
    "plt.ylabel('Platform')\n",
    "plt.show()"
   ]
  },
  {
   "cell_type": "markdown",
   "metadata": {},
   "source": [
    "It does not surprise me to see that 3DS games typically sell much better than PSV games, considering that we saw earlier how much more 3DS games have made in total sales since 2012 when compared to the PSV. "
   ]
  },
  {
   "cell_type": "code",
   "execution_count": 25,
   "metadata": {},
   "outputs": [
    {
     "data": {
      "image/png": "[encoded data removed]",
      "text/plain": [
       "<Figure size 864x432 with 1 Axes>"
      ]
     },
     "metadata": {
      "needs_background": "light"
     },
     "output_type": "display_data"
    }
   ],
   "source": [
    "eighth_gen_home = sales_since_2012[(sales_since_2012['platform'].isin(['WiiU', 'PS4', 'XOne']))]\n",
    "eighth_gen_home = eighth_gen_home[eighth_gen_home['total_sales'] <= 2]\n",
    "\n",
    "plt.figure(figsize = (12, 6))\n",
    "sns.boxplot(data = eighth_gen_home, orient = 'h', x = 'total_sales', y = 'platform', order = ['WiiU', 'PS4', 'XOne'])\n",
    "plt.title('Box Plot of Global Video Game Sales by 8th Generation Home Platforms')\n",
    "plt.xlabel('Global Sales (In Millions of USD)')\n",
    "plt.ylabel('Platform')\n",
    "plt.show()"
   ]
  },
  {
   "cell_type": "markdown",
   "metadata": {},
   "source": [
    "I am surprised to see that the PS4 has smaller median, third quartile, and rightmost whisker values than both of its competitors, since the total sales of PS4 games is approximately double that of the Xbox One, 314.14 million USD compared to 159.32 million USD, and close to four times that of the WiiU, 82.19 million USD.\n",
    "\n",
    "What this means is that typical PS4 games sell worse than typical Xbox One and WiiU games, but this deficit is made up for, and beyond, by how the PS4 has many more \"smash hits\" than the Xbox One and WiiU. In other words, the best selling PS4 games sell so much better than the best selling Xbox One and WiiU games to the point that PS4 games have the highest average global sales value of the three platforms of this generation."
   ]
  },
  {
   "cell_type": "markdown",
   "metadata": {},
   "source": [
    "Speaking of averages, I wonder if looking at the average total sales values of all the platforms in my filtered dataframe will result in any new insights. After making one last box plot for PC games, I will make bar graphs to compare average total sales values."
   ]
  },
  {
   "cell_type": "code",
   "execution_count": 26,
   "metadata": {},
   "outputs": [
    {
     "data": {
      "image/png": "[encoded data removed]",
      "text/plain": [
       "<Figure size 864x432 with 1 Axes>"
      ]
     },
     "metadata": {
      "needs_background": "light"
     },
     "output_type": "display_data"
    }
   ],
   "source": [
    "pc_since_2012 = sales_since_2012[(sales_since_2012['platform'] == 'PC')]\n",
    "pc_since_2012 = pc_since_2012[pc_since_2012['total_sales'] <= 0.5]\n",
    "\n",
    "plt.figure(figsize = (12, 6))\n",
    "sns.boxplot(data = pc_since_2012, orient = 'h', x = 'total_sales', y = 'platform')\n",
    "plt.title('Box Plot of Global PC Video Game Sales Since 2012')\n",
    "plt.xlabel('Global Sales (In Millions of USD)')\n",
    "plt.ylabel('')\n",
    "plt.show()"
   ]
  },
  {
   "cell_type": "markdown",
   "metadata": {},
   "source": [
    "Notice in my code for the PC's box plot that instead of setting total_sales to less than or equal to 2 (in millions of USD) or even 1, I set it less than or equal to 0.5. This really goes to show that even the best selling PC games really struggle to compete with their home platform counterparts."
   ]
  },
  {
   "cell_type": "code",
   "execution_count": 27,
   "metadata": {},
   "outputs": [
    {
     "data": {
      "text/html": [
       "<div>\n",
       "<style scoped>\n",
       "    .dataframe tbody tr th:only-of-type {\n",
       "        vertical-align: middle;\n",
       "    }\n",
       "\n",
       "    .dataframe tbody tr th {\n",
       "        vertical-align: top;\n",
       "    }\n",
       "\n",
       "    .dataframe thead th {\n",
       "        text-align: right;\n",
       "    }\n",
       "</style>\n",
       "<table border=\"1\" class=\"dataframe\">\n",
       "  <thead>\n",
       "    <tr style=\"text-align: right;\">\n",
       "      <th></th>\n",
       "      <th>platform</th>\n",
       "      <th>avg_sales</th>\n",
       "    </tr>\n",
       "  </thead>\n",
       "  <tbody>\n",
       "    <tr>\n",
       "      <th>0</th>\n",
       "      <td>X360</td>\n",
       "      <td>0.810068</td>\n",
       "    </tr>\n",
       "    <tr>\n",
       "      <th>1</th>\n",
       "      <td>PS4</td>\n",
       "      <td>0.801378</td>\n",
       "    </tr>\n",
       "    <tr>\n",
       "      <th>2</th>\n",
       "      <td>Wii</td>\n",
       "      <td>0.655000</td>\n",
       "    </tr>\n",
       "    <tr>\n",
       "      <th>3</th>\n",
       "      <td>XOne</td>\n",
       "      <td>0.645020</td>\n",
       "    </tr>\n",
       "    <tr>\n",
       "      <th>4</th>\n",
       "      <td>PS3</td>\n",
       "      <td>0.585781</td>\n",
       "    </tr>\n",
       "    <tr>\n",
       "      <th>5</th>\n",
       "      <td>WiiU</td>\n",
       "      <td>0.559116</td>\n",
       "    </tr>\n",
       "    <tr>\n",
       "      <th>6</th>\n",
       "      <td>3DS</td>\n",
       "      <td>0.491439</td>\n",
       "    </tr>\n",
       "    <tr>\n",
       "      <th>7</th>\n",
       "      <td>PC</td>\n",
       "      <td>0.250600</td>\n",
       "    </tr>\n",
       "    <tr>\n",
       "      <th>8</th>\n",
       "      <td>PSV</td>\n",
       "      <td>0.119659</td>\n",
       "    </tr>\n",
       "  </tbody>\n",
       "</table>\n",
       "</div>"
      ],
      "text/plain": [
       "  platform  avg_sales\n",
       "0     X360   0.810068\n",
       "1      PS4   0.801378\n",
       "2      Wii   0.655000\n",
       "3     XOne   0.645020\n",
       "4      PS3   0.585781\n",
       "5     WiiU   0.559116\n",
       "6      3DS   0.491439\n",
       "7       PC   0.250600\n",
       "8      PSV   0.119659"
      ]
     },
     "metadata": {},
     "output_type": "display_data"
    }
   ],
   "source": [
    "avg_sales_platform = sales_since_2012.groupby('platform')['total_sales'].mean().reset_index()\n",
    "avg_sales_platform = avg_sales_platform.sort_values(by = 'total_sales', ascending = False).reset_index(drop = True)\n",
    "avg_sales_platform = avg_sales_platform.rename(columns = {'total_sales': 'avg_sales'})\n",
    "\n",
    "display(avg_sales_platform)"
   ]
  },
  {
   "cell_type": "markdown",
   "metadata": {},
   "source": [
    "Let's first make a bar graph of the avg_sales_platform dataframe."
   ]
  },
  {
   "cell_type": "code",
   "execution_count": 28,
   "metadata": {},
   "outputs": [
    {
     "data": {
      "image/png": "[encoded data removed]",
      "text/plain": [
       "<Figure size 864x432 with 1 Axes>"
      ]
     },
     "metadata": {
      "needs_background": "light"
     },
     "output_type": "display_data"
    }
   ],
   "source": [
    "plt.figure(figsize = (12, 6))\n",
    "\n",
    "plt.bar(avg_sales_platform['platform'], avg_sales_platform['avg_sales'])\n",
    "plt.grid(axis = 'y', linestyle = '-', linewidth = 0.7, alpha = 0.7)\n",
    "plt.title('Average Global Video Game Sales of 7th and 8th Generation Platforms')\n",
    "plt.xlabel('Platform')\n",
    "plt.ylabel('Average Sales (In Millions of USD)')\n",
    "plt.show()"
   ]
  },
  {
   "cell_type": "markdown",
   "metadata": {},
   "source": [
    "The above graph visualizes how, despite the fact that PS4 games have a lower median global sales value than Xbox One and WiiU games, the presence of extreme outliers in the PS4's library cause it to have the highest average global video game sales value of all the platforms in the eighth generation. Intriguingly, the Xbox 360 has a slightly higher average. Furthermore, in contrast to its eighth generation counterpart, the PS3 actually has the lowest average sales value of the seventh generation home platforms."
   ]
  },
  {
   "cell_type": "code",
   "execution_count": 29,
   "metadata": {},
   "outputs": [
    {
     "data": {
      "image/png": "[encoded data removed]",
      "text/plain": [
       "<Figure size 864x432 with 1 Axes>"
      ]
     },
     "metadata": {
      "needs_background": "light"
     },
     "output_type": "display_data"
    }
   ],
   "source": [
    "home_7th_avg = avg_sales_platform[avg_sales_platform['platform'].isin(['Wii', 'PS3', 'X360'])].copy()\n",
    "\n",
    "order_7th_home = ['Wii', 'PS3', 'X360']\n",
    "home_7th_avg['platform'] = pd.Categorical(home_7th_avg['platform'], categories = order_7th_home, ordered = True)\n",
    "home_7th_avg = home_7th_avg.sort_values('platform')\n",
    "\n",
    "plt.figure(figsize = (12, 6))\n",
    "plt.bar(home_7th_avg['platform'], home_7th_avg['avg_sales'])\n",
    "plt.xlabel('Platform')\n",
    "plt.ylabel('Average Sales (In Millions of USD)')\n",
    "plt.title('Average Video Game Sales by 7th Generation Home Platform')\n",
    "plt.show()"
   ]
  },
  {
   "cell_type": "markdown",
   "metadata": {},
   "source": [
    "The Xbox 360 having the highest average video game sales value coincides nicely with the box plot made above."
   ]
  },
  {
   "cell_type": "code",
   "execution_count": 30,
   "metadata": {},
   "outputs": [
    {
     "data": {
      "image/png": "[encoded data removed]",
      "text/plain": [
       "<Figure size 864x432 with 1 Axes>"
      ]
     },
     "metadata": {
      "needs_background": "light"
     },
     "output_type": "display_data"
    }
   ],
   "source": [
    "handheld_8th_avg = avg_sales_platform[avg_sales_platform['platform'].isin(['3DS', 'PSV'])].copy()\n",
    "\n",
    "order_8th_handheld = ['3DS', 'PSV']\n",
    "handheld_8th_avg['platform'] = pd.Categorical(handheld_8th_avg['platform'], \n",
    "                                              categories = order_8th_handheld, ordered = True)\n",
    "handheld_8th_avg = handheld_8th_avg.sort_values('platform')\n",
    "\n",
    "plt.figure(figsize = (12, 6))\n",
    "plt.bar(handheld_8th_avg['platform'], handheld_8th_avg['avg_sales'])\n",
    "plt.xlabel('Platform')\n",
    "plt.ylabel('Average Sales (In Millions of USD)')\n",
    "plt.title('Average Video Game Sales by 8th Generation Handheld Platform')\n",
    "plt.show()"
   ]
  },
  {
   "cell_type": "markdown",
   "metadata": {},
   "source": [
    "What a discrepancy! On average, 3DS games make nearly five times more in sales than PSV games!"
   ]
  },
  {
   "cell_type": "code",
   "execution_count": 31,
   "metadata": {},
   "outputs": [
    {
     "data": {
      "image/png": "[encoded data removed]",
      "text/plain": [
       "<Figure size 864x432 with 1 Axes>"
      ]
     },
     "metadata": {
      "needs_background": "light"
     },
     "output_type": "display_data"
    }
   ],
   "source": [
    "home_8th_avg = avg_sales_platform[avg_sales_platform['platform'].isin(['WiiU', 'PS4', 'XOne'])].copy()\n",
    "\n",
    "order_8th_home = ['WiiU', 'PS4', 'XOne']\n",
    "home_8th_avg['platform'] = pd.Categorical(home_8th_avg['platform'], categories = order_8th_home, ordered = True)\n",
    "home_8th_avg = home_8th_avg.sort_values('platform')\n",
    "\n",
    "plt.figure(figsize = (12, 6))\n",
    "plt.bar(home_8th_avg['platform'], home_8th_avg['avg_sales'])\n",
    "plt.xlabel('Platform')\n",
    "plt.ylabel('Average Sales (In Millions of USD)')\n",
    "plt.title('Average Video Game Sales by 8th Generation Home Platform')\n",
    "plt.show()"
   ]
  },
  {
   "cell_type": "markdown",
   "metadata": {},
   "source": [
    "It would be interesting to investigate why Sony's platform of the current generation, on average, has the best selling games considering that last generation Sony's platform had, on average, the worst selling games. "
   ]
  },
  {
   "cell_type": "markdown",
   "metadata": {},
   "source": [
    "I am curious to investigate to what extent, if any, user and professional reviews affect sales. \n",
    "\n",
    "To investigate this, I will use the PS4's data because its games, as a whole, have been the best selling of all the platforms of this generation, and hence it has arguably the best data to use for this investigation. The code below builds two scatter plots that use user_score and critic_score, respectively, as the explanatory variable and total_sales as the response variable."
   ]
  },
  {
   "cell_type": "code",
   "execution_count": 32,
   "metadata": {},
   "outputs": [],
   "source": [
    "ps4_data = sales_since_2012[sales_since_2012['platform'] == 'PS4']\n",
    "\n",
    "ps4_user_reviews = ps4_data[~ps4_data['user_score'].isna()]\n",
    "\n",
    "ps4_critic_reviews = ps4_data[~ps4_data['critic_score'].isna()]"
   ]
  },
  {
   "cell_type": "code",
   "execution_count": 33,
   "metadata": {},
   "outputs": [
    {
     "data": {
      "image/png": "[encoded data removed]",
      "text/plain": [
       "<Figure size 864x432 with 1 Axes>"
      ]
     },
     "metadata": {
      "needs_background": "light"
     },
     "output_type": "display_data"
    },
    {
     "name": "stdout",
     "output_type": "stream",
     "text": [
      "Correlation Coefficient: -0.031957110204556424\n"
     ]
    }
   ],
   "source": [
    "plt.figure(figsize = (12, 6))\n",
    "plt.scatter(ps4_user_reviews['user_score'], ps4_user_reviews['total_sales'])\n",
    "plt.title('Scatter Plot of User Scores of PS4 Games vs Total Sales of the Games')\n",
    "plt.xlabel('User Score (On a Scale of 0 to 10)')\n",
    "plt.ylabel('Total Sales (In Millions of USD)')\n",
    "plt.grid(True)\n",
    "plt.show()\n",
    "\n",
    "user_score_vs_total_sales_ps4 = ps4_user_reviews['user_score'].corr(ps4_user_reviews['total_sales'])\n",
    "print('Correlation Coefficient:', user_score_vs_total_sales_ps4)"
   ]
  },
  {
   "cell_type": "markdown",
   "metadata": {},
   "source": [
    "Really? Wow! The correlation between user_score and total_sales is virtually zero. This leads me to the conclusion that while having a high user_score value certainly would not harm a game's sales, having a high user_score value is extremely unlikely to be a person's top reason for wanting to buy a particular game."
   ]
  },
  {
   "cell_type": "code",
   "execution_count": 34,
   "metadata": {},
   "outputs": [
    {
     "data": {
      "image/png": "[encoded data removed]",
      "text/plain": [
       "<Figure size 864x432 with 1 Axes>"
      ]
     },
     "metadata": {
      "needs_background": "light"
     },
     "output_type": "display_data"
    },
    {
     "name": "stdout",
     "output_type": "stream",
     "text": [
      "Correlation Coefficient: -0.03362497596528878\n"
     ]
    }
   ],
   "source": [
    "plt.figure(figsize = (12, 6))\n",
    "plt.scatter(ps4_critic_reviews['critic_score'], ps4_critic_reviews['total_sales'])\n",
    "plt.title('Scatter Plot of Critic Scores of PS4 Games vs Total Sales of the Games')\n",
    "plt.xlabel('Critic Score (On a Scale of 0 to 100)')\n",
    "plt.ylabel('Total Sales (In Millions of USD)')\n",
    "plt.grid(True)\n",
    "plt.show()\n",
    "\n",
    "critic_score_vs_total_sales_ps4 = ps4_critic_reviews['user_score'].corr(ps4_critic_reviews['total_sales'])\n",
    "print('Correlation Coefficient:', critic_score_vs_total_sales_ps4)"
   ]
  },
  {
   "cell_type": "markdown",
   "metadata": {},
   "source": [
    "Once again, virtually no correlation between critic_score and total_sales values. I similarly conclude that having a high critic_score value is very unlikely to be a person's top reason for wanting to buy a particular game.\n",
    "\n",
    "I did notice, however, that most of the outliers in this scatter plot have critic score values of at least 80. I wonder if this suggests that the best selling games tend to have excellent reviews from critics, but the converse of that statement, having excellent reviews from critics tends to result a game being a best seller, is false. More research would need to be done."
   ]
  },
  {
   "cell_type": "markdown",
   "metadata": {},
   "source": [
    "Though platform-exclusive games exist (for example, \"Metal Gear Solid 4: Guns of the Patriots\" only ever released on the PS3), it is more common for games to be released on multiple platforms (for example, \"Metal Gear Sold V: The Phantom Pain\" was released on the PS3, the Xbox 360, the PS4, the Xbox One, and the PC). I mention this because I would like to investigate if games that are released on multiple platforms tend to sell, more or less, equally well on each platform, or if any one platform tends to get substantially more sales.\n",
    "\n",
    "For this investigation, I will only compare platforms from the same generation. Though some games get released on both current generation and previous generation platforms (for example, \"Middle-earth: Shadow of Mordor\" was released on both the PS3 and the PS4, as well as both the Xbox 360 and the Xbox One), I don't think it is a good idea to compare sales between current and previous generation platforms because the previous generation platform versions are likely to fare significantly worse in sales due to, among other reasons, worse graphics, inferior gameplay mechanics, and the perception of gamers that the previous generation platforms are past their prime.\n",
    "\n",
    "Furthermore, I will only compare home platforms, not handhelds, because the 3DS and PSV have very few games in common, to the point they are not useful for this investigation."
   ]
  },
  {
   "cell_type": "code",
   "execution_count": 36,
   "metadata": {},
   "outputs": [],
   "source": [
    "seventh_gen = sales_since_2012[sales_since_2012['platform'].isin(['Wii', 'PS3', 'X360'])]\n",
    "\n",
    "filter_seventh_gen = seventh_gen.groupby('name').filter(lambda x: len(x) == 3)['name'].unique() \n",
    "\n",
    "multi_platform_games_seventh_gen = seventh_gen[seventh_gen['name'].isin(filter_seventh_gen)]\n",
    "\n",
    "multi_platform_games_seventh_gen = multi_platform_games_seventh_gen.sort_values(by = ['name', 'platform'], \n",
    "                                                                                ascending = True)"
   ]
  },
  {
   "cell_type": "code",
   "execution_count": 37,
   "metadata": {},
   "outputs": [
    {
     "data": {
      "text/html": [
       "<div>\n",
       "<style scoped>\n",
       "    .dataframe tbody tr th:only-of-type {\n",
       "        vertical-align: middle;\n",
       "    }\n",
       "\n",
       "    .dataframe tbody tr th {\n",
       "        vertical-align: top;\n",
       "    }\n",
       "\n",
       "    .dataframe thead th {\n",
       "        text-align: right;\n",
       "    }\n",
       "</style>\n",
       "<table border=\"1\" class=\"dataframe\">\n",
       "  <thead>\n",
       "    <tr style=\"text-align: right;\">\n",
       "      <th></th>\n",
       "      <th>platform</th>\n",
       "      <th>count</th>\n",
       "      <th>mean</th>\n",
       "      <th>std</th>\n",
       "      <th>min</th>\n",
       "      <th>25%</th>\n",
       "      <th>50%</th>\n",
       "      <th>75%</th>\n",
       "      <th>max</th>\n",
       "    </tr>\n",
       "  </thead>\n",
       "  <tbody>\n",
       "    <tr>\n",
       "      <th>0</th>\n",
       "      <td>PS3</td>\n",
       "      <td>27.0</td>\n",
       "      <td>1.259259</td>\n",
       "      <td>1.980363</td>\n",
       "      <td>0.01</td>\n",
       "      <td>0.195</td>\n",
       "      <td>0.47</td>\n",
       "      <td>1.120</td>\n",
       "      <td>8.17</td>\n",
       "    </tr>\n",
       "    <tr>\n",
       "      <th>1</th>\n",
       "      <td>Wii</td>\n",
       "      <td>27.0</td>\n",
       "      <td>1.008889</td>\n",
       "      <td>1.459163</td>\n",
       "      <td>0.01</td>\n",
       "      <td>0.150</td>\n",
       "      <td>0.42</td>\n",
       "      <td>1.165</td>\n",
       "      <td>6.76</td>\n",
       "    </tr>\n",
       "    <tr>\n",
       "      <th>2</th>\n",
       "      <td>X360</td>\n",
       "      <td>27.0</td>\n",
       "      <td>1.134074</td>\n",
       "      <td>1.296683</td>\n",
       "      <td>0.01</td>\n",
       "      <td>0.295</td>\n",
       "      <td>0.73</td>\n",
       "      <td>1.310</td>\n",
       "      <td>5.16</td>\n",
       "    </tr>\n",
       "  </tbody>\n",
       "</table>\n",
       "</div>"
      ],
      "text/plain": [
       "  platform  count      mean       std   min    25%   50%    75%   max\n",
       "0      PS3   27.0  1.259259  1.980363  0.01  0.195  0.47  1.120  8.17\n",
       "1      Wii   27.0  1.008889  1.459163  0.01  0.150  0.42  1.165  6.76\n",
       "2     X360   27.0  1.134074  1.296683  0.01  0.295  0.73  1.310  5.16"
      ]
     },
     "metadata": {},
     "output_type": "display_data"
    }
   ],
   "source": [
    "display(multi_platform_games_seventh_gen.groupby('platform')['total_sales'].describe().reset_index())"
   ]
  },
  {
   "cell_type": "markdown",
   "metadata": {},
   "source": [
    "Considering the plots made earlier in this project, I am not surprised to see that the Xbox 360 has noticeably larger first, second, and third quartile values than the PS3 and Wii, yet the PS3 has the largest mean value. This coincides nicely with the observations made earlier that typical Xbox 360 games sell better than typical PS3 games, yet the best selling PS3 games sell better than the best selling Xbox 360 games. \n",
    "\n",
    "I am also not surprised that, on average, the Wii version of games make the least in sales because of the three platforms, the Wii has by far the weakest graphics and other specifications, which discourages many gamers from choosing the Wii version over the Xbox 360 and/or PS3 version. "
   ]
  },
  {
   "cell_type": "code",
   "execution_count": 38,
   "metadata": {},
   "outputs": [],
   "source": [
    "eighth_gen = sales_since_2012[sales_since_2012['platform'].isin(['WiiU', 'PS4', 'XOne'])]\n",
    "\n",
    "filter_eighth_gen = eighth_gen.groupby('name').filter(lambda x: len(x) == 3)['name'].unique() \n",
    "\n",
    "multi_platform_games_eighth_gen = eighth_gen[eighth_gen['name'].isin(filter_eighth_gen)]\n",
    "\n",
    "multi_platform_games_eighth_gen = multi_platform_games_eighth_gen.sort_values(by = ['name', 'platform'], ascending = True)"
   ]
  },
  {
   "cell_type": "code",
   "execution_count": 39,
   "metadata": {},
   "outputs": [
    {
     "data": {
      "text/html": [
       "<div>\n",
       "<style scoped>\n",
       "    .dataframe tbody tr th:only-of-type {\n",
       "        vertical-align: middle;\n",
       "    }\n",
       "\n",
       "    .dataframe tbody tr th {\n",
       "        vertical-align: top;\n",
       "    }\n",
       "\n",
       "    .dataframe thead th {\n",
       "        text-align: right;\n",
       "    }\n",
       "</style>\n",
       "<table border=\"1\" class=\"dataframe\">\n",
       "  <thead>\n",
       "    <tr style=\"text-align: right;\">\n",
       "      <th></th>\n",
       "      <th>platform</th>\n",
       "      <th>count</th>\n",
       "      <th>mean</th>\n",
       "      <th>std</th>\n",
       "      <th>min</th>\n",
       "      <th>25%</th>\n",
       "      <th>50%</th>\n",
       "      <th>75%</th>\n",
       "      <th>max</th>\n",
       "    </tr>\n",
       "  </thead>\n",
       "  <tbody>\n",
       "    <tr>\n",
       "      <th>0</th>\n",
       "      <td>PS4</td>\n",
       "      <td>32.0</td>\n",
       "      <td>0.910312</td>\n",
       "      <td>1.165907</td>\n",
       "      <td>0.03</td>\n",
       "      <td>0.2275</td>\n",
       "      <td>0.580</td>\n",
       "      <td>0.8700</td>\n",
       "      <td>4.32</td>\n",
       "    </tr>\n",
       "    <tr>\n",
       "      <th>1</th>\n",
       "      <td>WiiU</td>\n",
       "      <td>32.0</td>\n",
       "      <td>0.385000</td>\n",
       "      <td>0.269731</td>\n",
       "      <td>0.03</td>\n",
       "      <td>0.1450</td>\n",
       "      <td>0.405</td>\n",
       "      <td>0.6025</td>\n",
       "      <td>1.01</td>\n",
       "    </tr>\n",
       "    <tr>\n",
       "      <th>2</th>\n",
       "      <td>XOne</td>\n",
       "      <td>32.0</td>\n",
       "      <td>0.568437</td>\n",
       "      <td>0.750342</td>\n",
       "      <td>0.01</td>\n",
       "      <td>0.1550</td>\n",
       "      <td>0.340</td>\n",
       "      <td>0.5300</td>\n",
       "      <td>2.92</td>\n",
       "    </tr>\n",
       "  </tbody>\n",
       "</table>\n",
       "</div>"
      ],
      "text/plain": [
       "  platform  count      mean       std   min     25%    50%     75%   max\n",
       "0      PS4   32.0  0.910312  1.165907  0.03  0.2275  0.580  0.8700  4.32\n",
       "1     WiiU   32.0  0.385000  0.269731  0.03  0.1450  0.405  0.6025  1.01\n",
       "2     XOne   32.0  0.568437  0.750342  0.01  0.1550  0.340  0.5300  2.92"
      ]
     },
     "metadata": {},
     "output_type": "display_data"
    }
   ],
   "source": [
    "display(multi_platform_games_eighth_gen.groupby('platform')['total_sales'].describe().reset_index())"
   ]
  },
  {
   "cell_type": "markdown",
   "metadata": {},
   "source": [
    "Apparently, the PS4 version of games typically exceed the Xbox One and WiiU versions in sales by a significant margin. The 25th percentile, median, 75th percentile, and mean sales values of the PS4 verions are all much larger than those of the Xbox One and the WiiU. \n",
    "\n",
    "There is also quite a big gap between mean Xbox One version sales and mean WiiU version sales. Similar to what happened to the original Wii, the WiiU's graphics and other specifications are much weaker than those of the PS4 and Xbox One, which once again discourages many gamers from choosing the WiiU version of a game over the others."
   ]
  },
  {
   "cell_type": "markdown",
   "metadata": {},
   "source": [
    "Now that I have looked at the general distribution of video game sales by platform, I wonder what insights I can acquire by looking at the general distribution of sales by genre. I would expect that some genres make significantly more in sales (and others significantly less) than others."
   ]
  },
  {
   "cell_type": "code",
   "execution_count": 40,
   "metadata": {},
   "outputs": [
    {
     "data": {
      "image/png": "[encoded data removed]",
      "text/plain": [
       "<Figure size 1152x864 with 1 Axes>"
      ]
     },
     "metadata": {
      "needs_background": "light"
     },
     "output_type": "display_data"
    }
   ],
   "source": [
    "by_genre = sales_since_2012[sales_since_2012['total_sales'] <= 2]\n",
    "alphabetical_order = sorted(by_genre['genre'].unique())\n",
    "\n",
    "plt.figure(figsize = (16, 12))\n",
    "sns.boxplot(data = by_genre, orient = 'h', x = 'total_sales', y = 'genre', order = alphabetical_order)\n",
    "plt.title('Box Plot of Global Video Games Sales by Genre')\n",
    "plt.xlabel('Global Sales (In Millions of USD)')\n",
    "plt.ylabel('Genre')\n",
    "plt.show()"
   ]
  },
  {
   "cell_type": "markdown",
   "metadata": {},
   "source": [
    "The Shooter genre has the largest median global sales value, which means if a person randomly chose one \"typical\" game from each genre that was released on or after 2012, the Shooter game is likely to be the one with the most sales. Furthermore, I noticed that the Shooter genre's box's right-side whisker stretches out the furthest of all the genres. This implies that the best selling Shooter games sell more than the best selling games of any other genre. The genre with the second largest median is Sports, which is also the genre whose right-ride whisker stretches out the second furthest.\n",
    "\n",
    "On the flip side, the two worst performing genres, by far, are Puzzle and Adventure. Those two genres have the smallest median values, the smallest third quartile values, and the smallest maximum whisker values. This suggests that even the best selling games in these genres can't compete with the top games of other genres. I would even go so far as to say that the best selling Puzzle and Adventure games struggle to compete with even the \"typical\" games of other genres."
   ]
  },
  {
   "cell_type": "markdown",
   "metadata": {},
   "source": [
    "Now I wonder what insights, if any, I can find by looking the average sales of each genre."
   ]
  },
  {
   "cell_type": "code",
   "execution_count": 41,
   "metadata": {},
   "outputs": [
    {
     "data": {
      "text/html": [
       "<div>\n",
       "<style scoped>\n",
       "    .dataframe tbody tr th:only-of-type {\n",
       "        vertical-align: middle;\n",
       "    }\n",
       "\n",
       "    .dataframe tbody tr th {\n",
       "        vertical-align: top;\n",
       "    }\n",
       "\n",
       "    .dataframe thead th {\n",
       "        text-align: right;\n",
       "    }\n",
       "</style>\n",
       "<table border=\"1\" class=\"dataframe\">\n",
       "  <thead>\n",
       "    <tr style=\"text-align: right;\">\n",
       "      <th></th>\n",
       "      <th>genre</th>\n",
       "      <th>avg_sales</th>\n",
       "    </tr>\n",
       "  </thead>\n",
       "  <tbody>\n",
       "    <tr>\n",
       "      <th>0</th>\n",
       "      <td>Shooter</td>\n",
       "      <td>1.296723</td>\n",
       "    </tr>\n",
       "    <tr>\n",
       "      <th>1</th>\n",
       "      <td>Platform</td>\n",
       "      <td>0.726627</td>\n",
       "    </tr>\n",
       "    <tr>\n",
       "      <th>2</th>\n",
       "      <td>Sports</td>\n",
       "      <td>0.701367</td>\n",
       "    </tr>\n",
       "    <tr>\n",
       "      <th>3</th>\n",
       "      <td>Role-Playing</td>\n",
       "      <td>0.533658</td>\n",
       "    </tr>\n",
       "    <tr>\n",
       "      <th>4</th>\n",
       "      <td>Misc</td>\n",
       "      <td>0.467500</td>\n",
       "    </tr>\n",
       "    <tr>\n",
       "      <th>5</th>\n",
       "      <td>Racing</td>\n",
       "      <td>0.465217</td>\n",
       "    </tr>\n",
       "    <tr>\n",
       "      <th>6</th>\n",
       "      <td>Action</td>\n",
       "      <td>0.457020</td>\n",
       "    </tr>\n",
       "    <tr>\n",
       "      <th>7</th>\n",
       "      <td>Simulation</td>\n",
       "      <td>0.446795</td>\n",
       "    </tr>\n",
       "    <tr>\n",
       "      <th>8</th>\n",
       "      <td>Fighting</td>\n",
       "      <td>0.420286</td>\n",
       "    </tr>\n",
       "    <tr>\n",
       "      <th>9</th>\n",
       "      <td>Puzzle</td>\n",
       "      <td>0.199583</td>\n",
       "    </tr>\n",
       "    <tr>\n",
       "      <th>10</th>\n",
       "      <td>Strategy</td>\n",
       "      <td>0.188507</td>\n",
       "    </tr>\n",
       "    <tr>\n",
       "      <th>11</th>\n",
       "      <td>Adventure</td>\n",
       "      <td>0.112146</td>\n",
       "    </tr>\n",
       "  </tbody>\n",
       "</table>\n",
       "</div>"
      ],
      "text/plain": [
       "           genre  avg_sales\n",
       "0        Shooter   1.296723\n",
       "1       Platform   0.726627\n",
       "2         Sports   0.701367\n",
       "3   Role-Playing   0.533658\n",
       "4           Misc   0.467500\n",
       "5         Racing   0.465217\n",
       "6         Action   0.457020\n",
       "7     Simulation   0.446795\n",
       "8       Fighting   0.420286\n",
       "9         Puzzle   0.199583\n",
       "10      Strategy   0.188507\n",
       "11     Adventure   0.112146"
      ]
     },
     "metadata": {},
     "output_type": "display_data"
    }
   ],
   "source": [
    "avg_sales_genre = sales_since_2012.groupby('genre')['total_sales'].mean().reset_index()\n",
    "avg_sales_genre = avg_sales_genre.sort_values(by = 'total_sales', ascending = False).reset_index(drop = True)\n",
    "avg_sales_genre = avg_sales_genre.rename(columns = {'total_sales': 'avg_sales'})\n",
    "\n",
    "display(avg_sales_genre)"
   ]
  },
  {
   "cell_type": "code",
   "execution_count": 42,
   "metadata": {},
   "outputs": [
    {
     "data": {
      "image/png": "[encoded data removed]",
      "text/plain": [
       "<Figure size 864x432 with 1 Axes>"
      ]
     },
     "metadata": {
      "needs_background": "light"
     },
     "output_type": "display_data"
    }
   ],
   "source": [
    "plt.figure(figsize = (12, 6))\n",
    "plt.bar(avg_sales_genre['genre'], avg_sales_genre['avg_sales'])\n",
    "plt.xlabel('Genre')\n",
    "plt.ylabel('Average Sales (In Millions of USD)')\n",
    "plt.title('Average Video Game Sales by Genre')\n",
    "plt.show()"
   ]
  },
  {
   "cell_type": "markdown",
   "metadata": {},
   "source": [
    "As implied by the above bar graph, not only do \"typical\" Shooter games tend to do quite well in sales, the Shooter genre has such high outliers to the point that it, by a noticeably large margin, is on average the best selling genre. In distant second place is the Platform genre, which is followed closely by the Sports genre in third place. Fourth place is awarded to Role-Playing, and fifth place goes to Misc (miscellaneous).\n",
    "\n",
    "I am not surprised to see that Adventure is dead last, but interestingly the second worst genre, on average, is Strategy and not Puzzle, which is third worst. The four genres in the middle (Misc, Racing, Action, and Simulation) all sell nearly equally well, on average."
   ]
  },
  {
   "cell_type": "markdown",
   "metadata": {},
   "source": [
    "# Section 4: Creating a user profile for NA, EU, & JP"
   ]
  },
  {
   "cell_type": "markdown",
   "metadata": {},
   "source": [
    "I would like to know what the top five platforms in each of North America, Europe, and Japan are."
   ]
  },
  {
   "cell_type": "code",
   "execution_count": 43,
   "metadata": {},
   "outputs": [
    {
     "data": {
      "text/html": [
       "<div>\n",
       "<style scoped>\n",
       "    .dataframe tbody tr th:only-of-type {\n",
       "        vertical-align: middle;\n",
       "    }\n",
       "\n",
       "    .dataframe tbody tr th {\n",
       "        vertical-align: top;\n",
       "    }\n",
       "\n",
       "    .dataframe thead th {\n",
       "        text-align: right;\n",
       "    }\n",
       "</style>\n",
       "<table border=\"1\" class=\"dataframe\">\n",
       "  <thead>\n",
       "    <tr style=\"text-align: right;\">\n",
       "      <th></th>\n",
       "      <th>platform</th>\n",
       "      <th>na_sales</th>\n",
       "    </tr>\n",
       "  </thead>\n",
       "  <tbody>\n",
       "    <tr>\n",
       "      <th>0</th>\n",
       "      <td>X360</td>\n",
       "      <td>140.05</td>\n",
       "    </tr>\n",
       "    <tr>\n",
       "      <th>1</th>\n",
       "      <td>PS4</td>\n",
       "      <td>108.74</td>\n",
       "    </tr>\n",
       "    <tr>\n",
       "      <th>2</th>\n",
       "      <td>PS3</td>\n",
       "      <td>103.38</td>\n",
       "    </tr>\n",
       "    <tr>\n",
       "      <th>3</th>\n",
       "      <td>XOne</td>\n",
       "      <td>93.12</td>\n",
       "    </tr>\n",
       "    <tr>\n",
       "      <th>4</th>\n",
       "      <td>3DS</td>\n",
       "      <td>55.31</td>\n",
       "    </tr>\n",
       "    <tr>\n",
       "      <th>5</th>\n",
       "      <td>WiiU</td>\n",
       "      <td>38.10</td>\n",
       "    </tr>\n",
       "    <tr>\n",
       "      <th>6</th>\n",
       "      <td>PC</td>\n",
       "      <td>19.12</td>\n",
       "    </tr>\n",
       "    <tr>\n",
       "      <th>7</th>\n",
       "      <td>Wii</td>\n",
       "      <td>17.45</td>\n",
       "    </tr>\n",
       "    <tr>\n",
       "      <th>8</th>\n",
       "      <td>PSV</td>\n",
       "      <td>10.98</td>\n",
       "    </tr>\n",
       "  </tbody>\n",
       "</table>\n",
       "</div>"
      ],
      "text/plain": [
       "  platform  na_sales\n",
       "0     X360    140.05\n",
       "1      PS4    108.74\n",
       "2      PS3    103.38\n",
       "3     XOne     93.12\n",
       "4      3DS     55.31\n",
       "5     WiiU     38.10\n",
       "6       PC     19.12\n",
       "7      Wii     17.45\n",
       "8      PSV     10.98"
      ]
     },
     "metadata": {},
     "output_type": "display_data"
    }
   ],
   "source": [
    "na_top_platforms = sales_since_2012.groupby('platform')['na_sales'].sum().reset_index()\n",
    "na_top_platforms = na_top_platforms.sort_values(by = 'na_sales', ascending = False).reset_index(drop = True)\n",
    "\n",
    "display(na_top_platforms)"
   ]
  },
  {
   "cell_type": "code",
   "execution_count": 44,
   "metadata": {},
   "outputs": [
    {
     "data": {
      "text/html": [
       "<div>\n",
       "<style scoped>\n",
       "    .dataframe tbody tr th:only-of-type {\n",
       "        vertical-align: middle;\n",
       "    }\n",
       "\n",
       "    .dataframe tbody tr th {\n",
       "        vertical-align: top;\n",
       "    }\n",
       "\n",
       "    .dataframe thead th {\n",
       "        text-align: right;\n",
       "    }\n",
       "</style>\n",
       "<table border=\"1\" class=\"dataframe\">\n",
       "  <thead>\n",
       "    <tr style=\"text-align: right;\">\n",
       "      <th></th>\n",
       "      <th>platform</th>\n",
       "      <th>eu_sales</th>\n",
       "    </tr>\n",
       "  </thead>\n",
       "  <tbody>\n",
       "    <tr>\n",
       "      <th>0</th>\n",
       "      <td>PS4</td>\n",
       "      <td>141.09</td>\n",
       "    </tr>\n",
       "    <tr>\n",
       "      <th>1</th>\n",
       "      <td>PS3</td>\n",
       "      <td>106.86</td>\n",
       "    </tr>\n",
       "    <tr>\n",
       "      <th>2</th>\n",
       "      <td>X360</td>\n",
       "      <td>74.52</td>\n",
       "    </tr>\n",
       "    <tr>\n",
       "      <th>3</th>\n",
       "      <td>XOne</td>\n",
       "      <td>51.59</td>\n",
       "    </tr>\n",
       "    <tr>\n",
       "      <th>4</th>\n",
       "      <td>3DS</td>\n",
       "      <td>42.64</td>\n",
       "    </tr>\n",
       "    <tr>\n",
       "      <th>5</th>\n",
       "      <td>PC</td>\n",
       "      <td>37.76</td>\n",
       "    </tr>\n",
       "    <tr>\n",
       "      <th>6</th>\n",
       "      <td>WiiU</td>\n",
       "      <td>25.13</td>\n",
       "    </tr>\n",
       "    <tr>\n",
       "      <th>7</th>\n",
       "      <td>Wii</td>\n",
       "      <td>11.92</td>\n",
       "    </tr>\n",
       "    <tr>\n",
       "      <th>8</th>\n",
       "      <td>PSV</td>\n",
       "      <td>11.36</td>\n",
       "    </tr>\n",
       "  </tbody>\n",
       "</table>\n",
       "</div>"
      ],
      "text/plain": [
       "  platform  eu_sales\n",
       "0      PS4    141.09\n",
       "1      PS3    106.86\n",
       "2     X360     74.52\n",
       "3     XOne     51.59\n",
       "4      3DS     42.64\n",
       "5       PC     37.76\n",
       "6     WiiU     25.13\n",
       "7      Wii     11.92\n",
       "8      PSV     11.36"
      ]
     },
     "metadata": {},
     "output_type": "display_data"
    }
   ],
   "source": [
    "eu_top_platforms = sales_since_2012.groupby('platform')['eu_sales'].sum().reset_index()\n",
    "eu_top_platforms = eu_top_platforms.sort_values(by = 'eu_sales', ascending = False).reset_index(drop = True)\n",
    "\n",
    "display(eu_top_platforms)"
   ]
  },
  {
   "cell_type": "code",
   "execution_count": 45,
   "metadata": {},
   "outputs": [
    {
     "data": {
      "text/html": [
       "<div>\n",
       "<style scoped>\n",
       "    .dataframe tbody tr th:only-of-type {\n",
       "        vertical-align: middle;\n",
       "    }\n",
       "\n",
       "    .dataframe tbody tr th {\n",
       "        vertical-align: top;\n",
       "    }\n",
       "\n",
       "    .dataframe thead th {\n",
       "        text-align: right;\n",
       "    }\n",
       "</style>\n",
       "<table border=\"1\" class=\"dataframe\">\n",
       "  <thead>\n",
       "    <tr style=\"text-align: right;\">\n",
       "      <th></th>\n",
       "      <th>platform</th>\n",
       "      <th>jp_sales</th>\n",
       "    </tr>\n",
       "  </thead>\n",
       "  <tbody>\n",
       "    <tr>\n",
       "      <th>0</th>\n",
       "      <td>3DS</td>\n",
       "      <td>87.79</td>\n",
       "    </tr>\n",
       "    <tr>\n",
       "      <th>1</th>\n",
       "      <td>PS3</td>\n",
       "      <td>35.29</td>\n",
       "    </tr>\n",
       "    <tr>\n",
       "      <th>2</th>\n",
       "      <td>PSV</td>\n",
       "      <td>21.04</td>\n",
       "    </tr>\n",
       "    <tr>\n",
       "      <th>3</th>\n",
       "      <td>PS4</td>\n",
       "      <td>15.96</td>\n",
       "    </tr>\n",
       "    <tr>\n",
       "      <th>4</th>\n",
       "      <td>WiiU</td>\n",
       "      <td>13.01</td>\n",
       "    </tr>\n",
       "    <tr>\n",
       "      <th>5</th>\n",
       "      <td>Wii</td>\n",
       "      <td>3.39</td>\n",
       "    </tr>\n",
       "    <tr>\n",
       "      <th>6</th>\n",
       "      <td>X360</td>\n",
       "      <td>1.57</td>\n",
       "    </tr>\n",
       "    <tr>\n",
       "      <th>7</th>\n",
       "      <td>XOne</td>\n",
       "      <td>0.34</td>\n",
       "    </tr>\n",
       "    <tr>\n",
       "      <th>8</th>\n",
       "      <td>PC</td>\n",
       "      <td>0.00</td>\n",
       "    </tr>\n",
       "  </tbody>\n",
       "</table>\n",
       "</div>"
      ],
      "text/plain": [
       "  platform  jp_sales\n",
       "0      3DS     87.79\n",
       "1      PS3     35.29\n",
       "2      PSV     21.04\n",
       "3      PS4     15.96\n",
       "4     WiiU     13.01\n",
       "5      Wii      3.39\n",
       "6     X360      1.57\n",
       "7     XOne      0.34\n",
       "8       PC      0.00"
      ]
     },
     "metadata": {},
     "output_type": "display_data"
    }
   ],
   "source": [
    "jp_top_platforms = sales_since_2012.groupby('platform')['jp_sales'].sum().reset_index()\n",
    "jp_top_platforms = jp_top_platforms.sort_values(by = 'jp_sales', ascending = False).reset_index(drop = True)\n",
    "\n",
    "display(jp_top_platforms)"
   ]
  },
  {
   "cell_type": "markdown",
   "metadata": {},
   "source": [
    "In North America, the top five selling platforms, in descending order, are the X360, the PS4, the PS3, the XOne, and the 3DS.\n",
    "\n",
    "In contrast, in Europe, the top five, in descending order, are the PS4, the PS3, the X360, the XOne, and the 3DS\n",
    "\n",
    "Notice that North America and Europe have the same platforms in the top three, albeit in different spots, and that they have the same platforms in fourth and fifth place. This suggests that video game sales are very similar in both regions.\n",
    "\n",
    "The top five platforms list is very different in Japan. There, the top five, in descending order, are the 3DS, the PS3, the PSV, the PS4, and the WiiU. \n",
    "\n",
    "I personally find it counterintuitive that the DS, a handheld platform, is the best selling platform in Japan, since home platforms make more in video games sales than handhelds, on average. Even more surprisingly, the PSV takes third place in Japan, ahead of the PS4. I am so surprised by this result in particular because the PSV actually has the worst video game sales of all platforms in North America and Europe.\n",
    "\n",
    "I wonder why Xbox 360 and Xbox One games sell so poorly in Japan, considering that both platforms appear in the top five lists for North America and Europe. Conversely, the Xbox 360 is in seventh place in Japan, in other words third to last place, and the Xbox One is in eighth place, i.e. second last. \n",
    "\n",
    "Lastly, I wonder why PC games have virtually zero sales in Japan. Though PC games have never been able to compete with home platforms that are in their prime, seeing the jp_sales value being 0.00 for the PC is, in my view, shocking. Maybe PC games sell so poorly in Japan because handheld platforms are so popular, which suggests to me that Japanese gamers, for some reason, prefer to have their games be available \"on the go\"."
   ]
  },
  {
   "cell_type": "markdown",
   "metadata": {},
   "source": [
    "It would be good to know what the top five genres in each region are. I am curious to know whether or not there are any key differences in the top genres between regions."
   ]
  },
  {
   "cell_type": "code",
   "execution_count": 46,
   "metadata": {},
   "outputs": [
    {
     "data": {
      "text/html": [
       "<div>\n",
       "<style scoped>\n",
       "    .dataframe tbody tr th:only-of-type {\n",
       "        vertical-align: middle;\n",
       "    }\n",
       "\n",
       "    .dataframe tbody tr th {\n",
       "        vertical-align: top;\n",
       "    }\n",
       "\n",
       "    .dataframe thead th {\n",
       "        text-align: right;\n",
       "    }\n",
       "</style>\n",
       "<table border=\"1\" class=\"dataframe\">\n",
       "  <thead>\n",
       "    <tr style=\"text-align: right;\">\n",
       "      <th></th>\n",
       "      <th>genre</th>\n",
       "      <th>na_sales</th>\n",
       "    </tr>\n",
       "  </thead>\n",
       "  <tbody>\n",
       "    <tr>\n",
       "      <th>0</th>\n",
       "      <td>Action</td>\n",
       "      <td>177.00</td>\n",
       "    </tr>\n",
       "    <tr>\n",
       "      <th>1</th>\n",
       "      <td>Shooter</td>\n",
       "      <td>144.77</td>\n",
       "    </tr>\n",
       "    <tr>\n",
       "      <th>2</th>\n",
       "      <td>Sports</td>\n",
       "      <td>81.38</td>\n",
       "    </tr>\n",
       "    <tr>\n",
       "      <th>3</th>\n",
       "      <td>Role-Playing</td>\n",
       "      <td>60.65</td>\n",
       "    </tr>\n",
       "    <tr>\n",
       "      <th>4</th>\n",
       "      <td>Misc</td>\n",
       "      <td>38.13</td>\n",
       "    </tr>\n",
       "    <tr>\n",
       "      <th>5</th>\n",
       "      <td>Platform</td>\n",
       "      <td>25.17</td>\n",
       "    </tr>\n",
       "    <tr>\n",
       "      <th>6</th>\n",
       "      <td>Fighting</td>\n",
       "      <td>19.79</td>\n",
       "    </tr>\n",
       "    <tr>\n",
       "      <th>7</th>\n",
       "      <td>Racing</td>\n",
       "      <td>17.22</td>\n",
       "    </tr>\n",
       "    <tr>\n",
       "      <th>8</th>\n",
       "      <td>Adventure</td>\n",
       "      <td>8.92</td>\n",
       "    </tr>\n",
       "    <tr>\n",
       "      <th>9</th>\n",
       "      <td>Simulation</td>\n",
       "      <td>7.86</td>\n",
       "    </tr>\n",
       "    <tr>\n",
       "      <th>10</th>\n",
       "      <td>Strategy</td>\n",
       "      <td>4.23</td>\n",
       "    </tr>\n",
       "    <tr>\n",
       "      <th>11</th>\n",
       "      <td>Puzzle</td>\n",
       "      <td>1.13</td>\n",
       "    </tr>\n",
       "  </tbody>\n",
       "</table>\n",
       "</div>"
      ],
      "text/plain": [
       "           genre  na_sales\n",
       "0         Action    177.00\n",
       "1        Shooter    144.77\n",
       "2         Sports     81.38\n",
       "3   Role-Playing     60.65\n",
       "4           Misc     38.13\n",
       "5       Platform     25.17\n",
       "6       Fighting     19.79\n",
       "7         Racing     17.22\n",
       "8      Adventure      8.92\n",
       "9     Simulation      7.86\n",
       "10      Strategy      4.23\n",
       "11        Puzzle      1.13"
      ]
     },
     "metadata": {},
     "output_type": "display_data"
    }
   ],
   "source": [
    "na_top_genres = sales_since_2012.groupby('genre')['na_sales'].sum().reset_index()\n",
    "na_top_genres = na_top_genres.sort_values(by = 'na_sales', ascending = False).reset_index(drop = True)\n",
    "\n",
    "display(na_top_genres)"
   ]
  },
  {
   "cell_type": "code",
   "execution_count": 47,
   "metadata": {},
   "outputs": [
    {
     "data": {
      "text/html": [
       "<div>\n",
       "<style scoped>\n",
       "    .dataframe tbody tr th:only-of-type {\n",
       "        vertical-align: middle;\n",
       "    }\n",
       "\n",
       "    .dataframe tbody tr th {\n",
       "        vertical-align: top;\n",
       "    }\n",
       "\n",
       "    .dataframe thead th {\n",
       "        text-align: right;\n",
       "    }\n",
       "</style>\n",
       "<table border=\"1\" class=\"dataframe\">\n",
       "  <thead>\n",
       "    <tr style=\"text-align: right;\">\n",
       "      <th></th>\n",
       "      <th>genre</th>\n",
       "      <th>eu_sales</th>\n",
       "    </tr>\n",
       "  </thead>\n",
       "  <tbody>\n",
       "    <tr>\n",
       "      <th>0</th>\n",
       "      <td>Action</td>\n",
       "      <td>158.43</td>\n",
       "    </tr>\n",
       "    <tr>\n",
       "      <th>1</th>\n",
       "      <td>Shooter</td>\n",
       "      <td>113.47</td>\n",
       "    </tr>\n",
       "    <tr>\n",
       "      <th>2</th>\n",
       "      <td>Sports</td>\n",
       "      <td>68.84</td>\n",
       "    </tr>\n",
       "    <tr>\n",
       "      <th>3</th>\n",
       "      <td>Role-Playing</td>\n",
       "      <td>46.76</td>\n",
       "    </tr>\n",
       "    <tr>\n",
       "      <th>4</th>\n",
       "      <td>Racing</td>\n",
       "      <td>27.29</td>\n",
       "    </tr>\n",
       "    <tr>\n",
       "      <th>5</th>\n",
       "      <td>Misc</td>\n",
       "      <td>25.95</td>\n",
       "    </tr>\n",
       "    <tr>\n",
       "      <th>6</th>\n",
       "      <td>Platform</td>\n",
       "      <td>20.98</td>\n",
       "    </tr>\n",
       "    <tr>\n",
       "      <th>7</th>\n",
       "      <td>Simulation</td>\n",
       "      <td>14.47</td>\n",
       "    </tr>\n",
       "    <tr>\n",
       "      <th>8</th>\n",
       "      <td>Fighting</td>\n",
       "      <td>10.79</td>\n",
       "    </tr>\n",
       "    <tr>\n",
       "      <th>9</th>\n",
       "      <td>Adventure</td>\n",
       "      <td>9.41</td>\n",
       "    </tr>\n",
       "    <tr>\n",
       "      <th>10</th>\n",
       "      <td>Strategy</td>\n",
       "      <td>5.17</td>\n",
       "    </tr>\n",
       "    <tr>\n",
       "      <th>11</th>\n",
       "      <td>Puzzle</td>\n",
       "      <td>1.31</td>\n",
       "    </tr>\n",
       "  </tbody>\n",
       "</table>\n",
       "</div>"
      ],
      "text/plain": [
       "           genre  eu_sales\n",
       "0         Action    158.43\n",
       "1        Shooter    113.47\n",
       "2         Sports     68.84\n",
       "3   Role-Playing     46.76\n",
       "4         Racing     27.29\n",
       "5           Misc     25.95\n",
       "6       Platform     20.98\n",
       "7     Simulation     14.47\n",
       "8       Fighting     10.79\n",
       "9      Adventure      9.41\n",
       "10      Strategy      5.17\n",
       "11        Puzzle      1.31"
      ]
     },
     "metadata": {},
     "output_type": "display_data"
    }
   ],
   "source": [
    "eu_top_genres = sales_since_2012.groupby('genre')['eu_sales'].sum().reset_index()\n",
    "eu_top_genres = eu_top_genres.sort_values(by = 'eu_sales', ascending = False).reset_index(drop = True)\n",
    "\n",
    "display(eu_top_genres)"
   ]
  },
  {
   "cell_type": "code",
   "execution_count": 48,
   "metadata": {},
   "outputs": [
    {
     "data": {
      "text/html": [
       "<div>\n",
       "<style scoped>\n",
       "    .dataframe tbody tr th:only-of-type {\n",
       "        vertical-align: middle;\n",
       "    }\n",
       "\n",
       "    .dataframe tbody tr th {\n",
       "        vertical-align: top;\n",
       "    }\n",
       "\n",
       "    .dataframe thead th {\n",
       "        text-align: right;\n",
       "    }\n",
       "</style>\n",
       "<table border=\"1\" class=\"dataframe\">\n",
       "  <thead>\n",
       "    <tr style=\"text-align: right;\">\n",
       "      <th></th>\n",
       "      <th>genre</th>\n",
       "      <th>jp_sales</th>\n",
       "    </tr>\n",
       "  </thead>\n",
       "  <tbody>\n",
       "    <tr>\n",
       "      <th>0</th>\n",
       "      <td>Role-Playing</td>\n",
       "      <td>59.12</td>\n",
       "    </tr>\n",
       "    <tr>\n",
       "      <th>1</th>\n",
       "      <td>Action</td>\n",
       "      <td>49.18</td>\n",
       "    </tr>\n",
       "    <tr>\n",
       "      <th>2</th>\n",
       "      <td>Misc</td>\n",
       "      <td>12.45</td>\n",
       "    </tr>\n",
       "    <tr>\n",
       "      <th>3</th>\n",
       "      <td>Simulation</td>\n",
       "      <td>10.35</td>\n",
       "    </tr>\n",
       "    <tr>\n",
       "      <th>4</th>\n",
       "      <td>Shooter</td>\n",
       "      <td>9.23</td>\n",
       "    </tr>\n",
       "    <tr>\n",
       "      <th>5</th>\n",
       "      <td>Fighting</td>\n",
       "      <td>9.08</td>\n",
       "    </tr>\n",
       "    <tr>\n",
       "      <th>6</th>\n",
       "      <td>Platform</td>\n",
       "      <td>8.63</td>\n",
       "    </tr>\n",
       "    <tr>\n",
       "      <th>7</th>\n",
       "      <td>Sports</td>\n",
       "      <td>6.98</td>\n",
       "    </tr>\n",
       "    <tr>\n",
       "      <th>8</th>\n",
       "      <td>Adventure</td>\n",
       "      <td>6.56</td>\n",
       "    </tr>\n",
       "    <tr>\n",
       "      <th>9</th>\n",
       "      <td>Racing</td>\n",
       "      <td>2.50</td>\n",
       "    </tr>\n",
       "    <tr>\n",
       "      <th>10</th>\n",
       "      <td>Strategy</td>\n",
       "      <td>2.17</td>\n",
       "    </tr>\n",
       "    <tr>\n",
       "      <th>11</th>\n",
       "      <td>Puzzle</td>\n",
       "      <td>2.14</td>\n",
       "    </tr>\n",
       "  </tbody>\n",
       "</table>\n",
       "</div>"
      ],
      "text/plain": [
       "           genre  jp_sales\n",
       "0   Role-Playing     59.12\n",
       "1         Action     49.18\n",
       "2           Misc     12.45\n",
       "3     Simulation     10.35\n",
       "4        Shooter      9.23\n",
       "5       Fighting      9.08\n",
       "6       Platform      8.63\n",
       "7         Sports      6.98\n",
       "8      Adventure      6.56\n",
       "9         Racing      2.50\n",
       "10      Strategy      2.17\n",
       "11        Puzzle      2.14"
      ]
     },
     "metadata": {},
     "output_type": "display_data"
    }
   ],
   "source": [
    "jp_top_genres = sales_since_2012.groupby('genre')['jp_sales'].sum().reset_index()\n",
    "jp_top_genres = jp_top_genres.sort_values(by = 'jp_sales', ascending = False).reset_index(drop = True)\n",
    "\n",
    "display(jp_top_genres)"
   ]
  },
  {
   "cell_type": "markdown",
   "metadata": {},
   "source": [
    "In North America, the top five selling genres, in descending order, are Action, Shooter, Sports, Role-Playing, and Misc.\n",
    "\n",
    "As for Europe, the top five, in descending order, are Action, Shooter, Sports, Role-Playing, and Racing.\n",
    "\n",
    "Once again, North America and Europe have similar profiles. The only difference is the genre in fifth place; Racing takes fifth place in Europe, followed closely by Misc in sixth place, whereas, oddly enough, Racing is in merely eighth place in North America, where Misc takes the fifth place spot. Also, Action games very clearly takes first place in both regions, followed distantly by Shooter games, followed distantly by Sports games.\n",
    "\n",
    "Just like with platforms, Japan's top five genres list is quite different from that of North America and Europe. Their top five are Role-Playing, Action, Misc, Simulation, and Shooter.\n",
    "\n",
    "What stands out to me the most is how Japan is the only region where the Simulation genre made the top five list, a genre that is in merely eighth place in Europe and in merely tenth place in North America. Also noteworthy is how much better Role-Playing games do in Japan, and how much worse Shooter games do, compared to North America and Europe. \n",
    "\n",
    "This investigation goes to show that Ice can expect most games to sell about equally well in North America as they do in Europe, but cannot use those sales figures to accurately predict how the games sell in Japan, and vice-versa."
   ]
  },
  {
   "cell_type": "markdown",
   "metadata": {},
   "source": [
    "I wonder to what extent, if any, ESRB ratings affect video game sales. \n",
    "\n",
    "To help me investigate this, I will filter the sales_since_2012 dataframe in the following ways:\n",
    "\n",
    "(1) Only use North American sales data because only North America uses ESRB.\n",
    "\n",
    "(2) Drop all rows with a null ESRB rating because those rows won't help with this investigation.\n",
    "\n",
    "(3) Drop all rows with an ESRB rating of AO, EC, K-A, or RP because these ratings are so rare to the point they are not useful for this investigation.\n",
    "\n",
    "(4) Just like what I did above, I will make a box plot of the summary statistics as well as a bar graph of the average sales by ESRB rating."
   ]
  },
  {
   "cell_type": "code",
   "execution_count": 49,
   "metadata": {},
   "outputs": [],
   "source": [
    "esrb_sales_data = sales_since_2012[~sales_since_2012['rating'].isnull()]\n",
    "esrb_sales_data = esrb_sales_data[~esrb_sales_data['rating'].isin(['AO', 'EC', 'K-A', 'RP'])]"
   ]
  },
  {
   "cell_type": "code",
   "execution_count": 50,
   "metadata": {},
   "outputs": [
    {
     "data": {
      "image/png": "[encoded data removed]",
      "text/plain": [
       "<Figure size 1152x864 with 1 Axes>"
      ]
     },
     "metadata": {
      "needs_background": "light"
     },
     "output_type": "display_data"
    }
   ],
   "source": [
    "rating_box_plot = esrb_sales_data[esrb_sales_data['na_sales'] <= 1]\n",
    "\n",
    "plt.figure(figsize = (16, 12))\n",
    "sns.boxplot(data = rating_box_plot, orient = 'h', x = 'na_sales', y = 'rating', order = ['E', 'E10+', 'T', 'M'])\n",
    "plt.title('Box Plot of North American Video Games Sales by ESRB Rating')\n",
    "plt.xlabel('Total Sales In North America (In Millions of USD)')\n",
    "plt.ylabel('ESRB Rating')\n",
    "plt.show()"
   ]
  },
  {
   "cell_type": "markdown",
   "metadata": {},
   "source": [
    "Interestingly, rated E10+ and M games have very similar total sales distributions. Though their median values are very similar, rated M has noticeably larger third quartile and rightmost whisker total sales values, which implies that the top 25% best selling rated M games tend to sell better than the top 25% best selling E10+ games. \n",
    "\n",
    "Furthermore, rated E and T games have very similar distributions. Rated E has slightly larger median, third quartile, and rightmost whisker values, which implies that rated E games as a whole sell better than rated T games."
   ]
  },
  {
   "cell_type": "code",
   "execution_count": 51,
   "metadata": {},
   "outputs": [
    {
     "data": {
      "image/png": "[encoded data removed]",
      "text/plain": [
       "<Figure size 864x432 with 1 Axes>"
      ]
     },
     "metadata": {
      "needs_background": "light"
     },
     "output_type": "display_data"
    }
   ],
   "source": [
    "rating_bar_graph = esrb_sales_data.groupby('rating')['na_sales'].mean().reset_index()\n",
    "rating_bar_graph = rating_bar_graph.sort_values(by = 'na_sales', ascending = False)\n",
    "rating_bar_graph = rating_bar_graph.reset_index(drop = True)\n",
    "\n",
    "plt.figure(figsize = (12, 6))\n",
    "plt.bar(rating_bar_graph['rating'], rating_bar_graph['na_sales'])\n",
    "plt.xlabel('ESRB Rating')\n",
    "plt.ylabel('Average Sales In North America (In Millions of USD)')\n",
    "plt.title('Average Video Game Sales In North America By ESRB Rating')\n",
    "plt.show()"
   ]
  },
  {
   "cell_type": "markdown",
   "metadata": {},
   "source": [
    "As expected, on average rated M games make more in sales than games of any other rating. In relatively distant second place is games with an E rating, followed by rated E10+, followed (only slightly) by rated T. What I did not expect is that rated E games, on average, sell better than E10+ because the above box plot made me expect the opposite. This has to mean that the rated E library of games have such high outliers to the point that rated E games sell better on average despite rated E10+ games having a larger median total sales value. \n",
    "\n",
    "Since E stands for \"Everyone\", E10+ stands for \"Everyone 10 and Up\" and T stands for \"Teen\" (i.e. ages 13+), it is somewhat ironic that rated M games, M standing for \"Mature\" (i.e. ages 17+), sell the best, on average, because M is the most age-restricted rating of the four. That said, there are numerous video game franchises that are highly popular where most if not all of the games are rated M (examples include *Call of Duty*, *Far Cry*, *Grand Theft Auto*, *Mortal Kombat*, and *Resident Evil*)."
   ]
  },
  {
   "cell_type": "markdown",
   "metadata": {},
   "source": [
    "# Section 5: Hypothesis Testing"
   ]
  },
  {
   "cell_type": "markdown",
   "metadata": {},
   "source": [
    "I am interested in testing the following hypothesis:\n",
    "\n",
    "***Average user ratings of the Xbox One and PC platforms are the same.***\n",
    "\n",
    "This hypothesis calls for using a two-tailed test, since it is possible that average user ratings of Xbox One games are higher than their PC version counterparts, but it is also possible that the Xbox One games have lower average user ratings.\n",
    "\n",
    "The null and alternative hypotheses are the following:\n",
    "\n",
    "**Null:** Average user ratings of the Xbox One and PC platforms are equal.\n",
    "\n",
    "**Alternative:** Average user ratings of the Xbox One and PC platforms are not equal (i.e. one platform has higher average user ratings than the other).\n",
    "\n",
    "This test uses a significance level of 95% because this is the most commonly used level and I see no good reason to use a different one."
   ]
  },
  {
   "cell_type": "markdown",
   "metadata": {},
   "source": [
    "Since this test is only interested in Xbox One and PC games, I will filter the sales_since_2012 dataframe accordingly. Furthermore, null user_score values are useless to this test, so I will drop those rows. Finally, to make the comparison apples to apples, only games that were released on **both** the Xbox One and the PC should be looked at."
   ]
  },
  {
   "cell_type": "code",
   "execution_count": 52,
   "metadata": {},
   "outputs": [],
   "source": [
    "xone_vs_pc = sales_since_2012[(sales_since_2012['platform'].isin(['XOne', 'PC'])) \n",
    "                              & (~sales_since_2012['user_score'].isna())]\n",
    "\n",
    "games_on_xone_and_pc = xone_vs_pc.groupby('name').filter(\n",
    "    lambda group: all(platform in group['platform'].values for platform in ['XOne', 'PC']))['name'].unique()\n",
    "\n",
    "xone_vs_pc = xone_vs_pc[xone_vs_pc['name'].isin(games_on_xone_and_pc)]"
   ]
  },
  {
   "cell_type": "markdown",
   "metadata": {},
   "source": [
    "Before I conduct the test, I have to decide whether or not the variance in the user_scores for the XBox One version of the games should be considered equal to the variance in the user_scores for the PC version, or not. The code below prints each variance value, as well as other summary statistics for each platform."
   ]
  },
  {
   "cell_type": "code",
   "execution_count": 53,
   "metadata": {},
   "outputs": [
    {
     "name": "stdout",
     "output_type": "stream",
     "text": [
      "XOne user_score summary statistics:\n",
      "count    79.000000\n",
      "mean      6.706329\n",
      "std       1.243170\n",
      "min       3.100000\n",
      "25%       5.850000\n",
      "50%       6.900000\n",
      "75%       7.750000\n",
      "max       9.200000\n",
      "Name: user_score, dtype: float64\n",
      "\n",
      "XOne user_score variance: 1.5454722492697175\n",
      "\n",
      "PC user_score summary statistics:\n",
      "count    79.000000\n",
      "mean      6.136709\n",
      "std       1.717719\n",
      "min       1.400000\n",
      "25%       4.750000\n",
      "50%       6.300000\n",
      "75%       7.600000\n",
      "max       9.300000\n",
      "Name: user_score, dtype: float64\n",
      "\n",
      "PC user_score variance: 2.9505582603050957\n"
     ]
    }
   ],
   "source": [
    "xone_only = xone_vs_pc[xone_vs_pc['platform'] == 'XOne']\n",
    "print('XOne user_score summary statistics:')\n",
    "print(xone_only['user_score'].describe())\n",
    "print()\n",
    "print('XOne user_score variance:', xone_only['user_score'].var())\n",
    "print()\n",
    "\n",
    "pc_only = xone_vs_pc[xone_vs_pc['platform'] == 'PC']\n",
    "print('PC user_score summary statistics:')\n",
    "print(pc_only['user_score'].describe())\n",
    "print()\n",
    "print('PC user_score variance:', pc_only['user_score'].var())"
   ]
  },
  {
   "cell_type": "markdown",
   "metadata": {},
   "source": [
    "Notice that the Xbox One user_score values have a variance of approximately 1.55, whereas that of the PC is approximately 2.95. \n",
    "\n",
    "Consequently, I will set the equal_var parameter equal to \"False\"."
   ]
  },
  {
   "cell_type": "code",
   "execution_count": 54,
   "metadata": {},
   "outputs": [
    {
     "name": "stdout",
     "output_type": "stream",
     "text": [
      "p-value: 0.018267845410565663\n",
      "We reject the null hypothesis that average user ratings of the Xbox One and PC platforms are equal.\n"
     ]
    }
   ],
   "source": [
    "xone_vs_pc_test = st.ttest_ind(xone_only['user_score'], pc_only['user_score'], equal_var = False)\n",
    "\n",
    "print('p-value:', xone_vs_pc_test.pvalue)\n",
    "\n",
    "xone_vs_pc_test_p_value = 0.05\n",
    "\n",
    "if xone_vs_pc_test.pvalue < xone_vs_pc_test_p_value:    \n",
    "    print('We reject the null hypothesis that average user ratings of the Xbox One and PC platforms are equal.')\n",
    "else:\n",
    "    print('We fail to reject the null hypothesis.')"
   ]
  },
  {
   "cell_type": "markdown",
   "metadata": {},
   "source": [
    "**Additional Commentary:** The mean Xbox One user_score value is approximately 6.71 with a standard deviation of approximately 1.24, whereas the mean PC user_score value is approximately 6.14 with a standard deviation of approximately 1.72. Thanks in part to the above hypothesis testing, it is reasonable to expect that when video games are released on both the Xbox One and the PC, the Xbox One versions will, on average, be somewhat better received by users and have somewhat less variation in user ratings."
   ]
  },
  {
   "cell_type": "markdown",
   "metadata": {},
   "source": [
    "I am also interested in testing the following hypothesis:\n",
    "\n",
    "***Average user ratings for the Action and Sports genres are different.***\n",
    "\n",
    "This hypothesis also calls for using a two-tailed test since either of the two genres, Action or Sports, are possibly the one with higher average user ratings than the other. When it comes to this kind of testing, the null hypothesis is always the one that supposes the means are equal, so I define the null and alternative hypotheses in the following way:\n",
    "\n",
    "**Null:** Average user ratings of the Action and Sports genres are equal.\n",
    "\n",
    "**Alternative:** Average user ratings of the Action and Sports genres are not equal (i.e. one genre has higher average user ratings than the other).\n",
    "\n",
    "This test uses a significance level of 95% because I see no good reason to use a significance level that is different from the most commonly used one.\n",
    "\n",
    "In the code below I filter the sales_since_2012 dataframe so that only Action and Sports games with non-null user_score values remain."
   ]
  },
  {
   "cell_type": "code",
   "execution_count": 55,
   "metadata": {},
   "outputs": [],
   "source": [
    "action_and_sports_data = sales_since_2012[sales_since_2012['genre'].isin(['Action', 'Sports'])]\n",
    "action_and_sports_data = action_and_sports_data[~action_and_sports_data['user_score'].isna()]"
   ]
  },
  {
   "cell_type": "markdown",
   "metadata": {},
   "source": [
    "Just like with the first hypothesis test, I am deliberately displaying the summary statistics and variance values of each genre below to give me an idea of whether or not the variance values should be treated as equal."
   ]
  },
  {
   "cell_type": "code",
   "execution_count": 56,
   "metadata": {},
   "outputs": [
    {
     "name": "stdout",
     "output_type": "stream",
     "text": [
      "Action games user_score summary statistics:\n",
      "count    520.000000\n",
      "mean       6.833654\n",
      "std        1.365302\n",
      "min        1.600000\n",
      "25%        6.300000\n",
      "50%        7.150000\n",
      "75%        7.800000\n",
      "max        9.100000\n",
      "Name: user_score, dtype: float64\n",
      "\n",
      "Action games user_score variance: 1.864048280717356\n",
      "\n",
      "Sports games user_score summary statistics:\n",
      "count    194.000000\n",
      "mean       5.466495\n",
      "std        1.736819\n",
      "min        0.200000\n",
      "25%        4.300000\n",
      "50%        5.750000\n",
      "75%        6.800000\n",
      "max        8.800000\n",
      "Name: user_score, dtype: float64\n",
      "\n",
      "Sports games user_score variance: 3.0165399818385765\n"
     ]
    }
   ],
   "source": [
    "action_only = action_and_sports_data[action_and_sports_data['genre'] == 'Action']\n",
    "print('Action games user_score summary statistics:')\n",
    "print(action_only['user_score'].describe())\n",
    "print()\n",
    "print('Action games user_score variance:', action_only['user_score'].var())\n",
    "print()\n",
    "\n",
    "sports_only = action_and_sports_data[action_and_sports_data['genre'] == 'Sports']\n",
    "print('Sports games user_score summary statistics:')\n",
    "print(sports_only['user_score'].describe())\n",
    "print()\n",
    "print('Sports games user_score variance:', sports_only['user_score'].var())"
   ]
  },
  {
   "cell_type": "markdown",
   "metadata": {},
   "source": [
    "The variance values are approximately 1.86 and 3.02 for Action and Sports, respectively. I will set equal_var equal to \"False\"."
   ]
  },
  {
   "cell_type": "code",
   "execution_count": 57,
   "metadata": {},
   "outputs": [
    {
     "name": "stdout",
     "output_type": "stream",
     "text": [
      "p-value: 5.1613574354387965e-20\n",
      "We reject the null hypothesis that average user ratings of Action and Sports video games are equal.\n"
     ]
    }
   ],
   "source": [
    "action_vs_sports_test = st.ttest_ind(action_only['user_score'], sports_only['user_score'], equal_var = False)\n",
    "\n",
    "print('p-value:', action_vs_sports_test.pvalue)\n",
    "\n",
    "action_vs_sports_test_p_value = 0.05\n",
    "\n",
    "if action_vs_sports_test.pvalue < action_vs_sports_test_p_value:    \n",
    "    print('We reject the null hypothesis that average user ratings of Action and Sports video games are equal.')\n",
    "else:\n",
    "    print('We fail to reject the null hypothesis.')"
   ]
  },
  {
   "cell_type": "markdown",
   "metadata": {},
   "source": [
    "**Additional Commentary:** The mean user_score value for Action games is approximately 6.83 with a standard deviation of approximately 1.37, whereas the mean user_score value for Sports games is approximately 5.47 with a standard deviation of approximately 1.74. Thanks to the above hypothesis testing, it is reasonable to conclude that on average video games in the Action genre are noticeably better received by users than video games in the Sports genre. Furthermore, Action video games tend to have slightly less variation in user ratings than Sports games."
   ]
  },
  {
   "cell_type": "markdown",
   "metadata": {},
   "source": [
    "# Section 6: Conclusions"
   ]
  },
  {
   "cell_type": "markdown",
   "metadata": {},
   "source": [
    "The purpose of this project was to help stakeholders of the online, worldwide video game store **Ice** identify patterns in their sales dataset. Using these patterns, they can anticipate which games that will be released in 2017 are likely to be successful. The patterns that deserve mention are the following:\n",
    "\n",
    "1) The PS4 is by far the best selling home platform of the current generation, in terms of total, worldwide video game sales, with the Xbox One being a distant second and the WiiU being an even more distant third. So far this generation, whenever a video game has been released on all three platforms, the PS4 version, on average, makes the most in sales by a wide margin. Hence, Ice stakeholders should especially keep an eye out for highly anticipated 2017 PS4 games, particularly if the game will be the next addition to a well-established franchise, such *Call of Duty*, *Far Cry*, *Grand Theft Auto*, *Mortal Kombat*, and *Resident Evil*. Even if said upcoming 2017 game will be exclusive to the PS4, even then it has a good chance of being a hit.\n",
    "\n",
    "2) Though Sony's current home platform is thriving, the same cannot be said of its current handheld platform, the PlayStation Vita (PSV). Every year since 2012, the Nintendo 3DS has made three times more in total video game sales then the PSV. Hence, it is reasonable to expect 3DS games, as a whole, to continue making more money than PSV games throughout 2017. That said, since 2013 yearly total sales of 3DS video games have been sharply declining, which leads me to think that not even the 3DS should be getting very much attention from Ice stakeholders. \n",
    "\n",
    "3) Surprisingly, reviews of a video game from professional critics have no correlation with the game's global sales. There is also no correlation between reviews from everyday users and global sales. I acquired these observations using the sales data of the PS4, which has the highest total video games sales of its generation, and hence arguably the richest dataset to work with. Hence, Ice should not use critic nor user reviews as predictors of how well a game will do. Rather, the genre of a game is much more likely to have predictive power over how well (or poorly) it sells.\n",
    "\n",
    "4) When looking at average video game sales by genre, Shooter games sell the best. In distant second place is the Platform genre, followed closely by Sports in third place, followed somewhat distantly by Role-Playing in fourth, which is followed closely by Misc (miscellaneous) in fifth place. Hence, Ice should pay close attention to any high-anticipated Shooter games coming out in 2017, especially if they will release on the PS4. That said, Role-Playing is by far the most popular genre in Japan, where Shooters have only the fifth highest total sales value. Furthermore, Japan is the only region where Simulation games sell well. Since Ice is a worldwide company, it is good to know how video game sales vary across regions.\n",
    "\n",
    "5) Even though rated M is the most age-restricted of the four most common ESRB ratings (E, E10+, T, and M), rated M games, on average, actually make the most in sales. This is good for Ice to know because if there are any games releasing in 2017 that fit the following description, it is quite likely to be a hit: available on PS4 (whether exclusively or on other platforms as well), is an Action, Shooter, Sports or Role-Playing game, and is rated M by the ESRB. Such a game is especially likely to be a hit if it is a highly-desired sequel to a well-established franchise, e.g. *Call of Duty*, *Far Cry*, *Grand Theft Auto*, *Mortal Kombat*, and *Resident Evil*."
   ]
  }
 ],
 "metadata": {
  "kernelspec": {
   "display_name": "Python 3 (ipykernel)",
   "language": "python",
   "name": "python3"
  },
  "language_info": {
   "codemirror_mode": {
    "name": "ipython",
    "version": 3
   },
   "file_extension": ".py",
   "mimetype": "text/x-python",
   "name": "python",
   "nbconvert_exporter": "python",
   "pygments_lexer": "ipython3",
   "version": "3.9.5"
  },
  "toc": {
   "base_numbering": 1,
   "nav_menu": {},
   "number_sections": true,
   "sideBar": true,
   "skip_h1_title": true,
   "title_cell": "Table of Contents",
   "title_sidebar": "Contents",
   "toc_cell": false,
   "toc_position": {
    "height": "calc(100% - 180px)",
    "left": "10px",
    "top": "150px",
    "width": "246.6px"
   },
   "toc_section_display": true,
   "toc_window_display": true
  }
 },
 "nbformat": 4,
 "nbformat_minor": 2
}
